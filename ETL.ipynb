{
 "cells": [
  {
   "cell_type": "code",
   "execution_count": 1,
   "metadata": {
    "editable": true
   },
   "outputs": [
    {
     "name": "stdout",
     "output_type": "stream",
     "text": [
      "Collecting numpy\n",
      "\u001b[?25l  Downloading https://files.pythonhosted.org/packages/45/b2/6c7545bb7a38754d63048c7696804a0d947328125d81bf12beaa692c3ae3/numpy-1.19.5-cp36-cp36m-manylinux1_x86_64.whl (13.4MB)\n",
      "\u001b[K    100% |████████████████████████████████| 13.4MB 1.2MB/s eta 0:00:01   13% |████▎                           | 1.8MB 27.9MB/s eta 0:00:01    17% |█████▊                          | 2.4MB 7.0MB/s eta 0:00:02    26% |████████▍                       | 3.5MB 27.9MB/s eta 0:00:01    36% |███████████▊                    | 4.9MB 30.6MB/s eta 0:00:01    47% |███████████████▏                | 6.4MB 30.4MB/s eta 0:00:01    67% |█████████████████████▋          | 9.1MB 27.7MB/s eta 0:00:01    88% |████████████████████████████▎   | 11.8MB 29.2MB/s eta 0:00:01    98% |███████████████████████████████▋| 13.2MB 29.6MB/s eta 0:00:01\n",
      "\u001b[31mtensorflow 1.3.0 requires tensorflow-tensorboard<0.2.0,>=0.1.0, which is not installed.\u001b[0m\n",
      "\u001b[?25hInstalling collected packages: numpy\n",
      "  Found existing installation: numpy 1.12.1\n",
      "    Uninstalling numpy-1.12.1:\n",
      "      Successfully uninstalled numpy-1.12.1\n",
      "Successfully installed numpy-1.19.5\n",
      "Collecting missingno\n",
      "  Downloading https://files.pythonhosted.org/packages/87/22/cd5cf999af21c2f97486622c551ac3d07361ced8125121e907f588ff5f24/missingno-0.5.2-py3-none-any.whl\n",
      "Requirement already satisfied: scipy in /opt/conda/lib/python3.6/site-packages (from missingno) (1.2.1)\n",
      "Requirement already satisfied: seaborn in /opt/conda/lib/python3.6/site-packages (from missingno) (0.8.1)\n",
      "Requirement already satisfied: numpy in /opt/conda/lib/python3.6/site-packages (from missingno) (1.19.5)\n",
      "Requirement already satisfied: matplotlib in /opt/conda/lib/python3.6/site-packages (from missingno) (2.1.0)\n",
      "Requirement already satisfied: pandas in /opt/conda/lib/python3.6/site-packages (from seaborn->missingno) (0.23.3)\n",
      "Requirement already satisfied: six>=1.10 in /opt/conda/lib/python3.6/site-packages (from matplotlib->missingno) (1.11.0)\n",
      "Requirement already satisfied: python-dateutil>=2.0 in /opt/conda/lib/python3.6/site-packages (from matplotlib->missingno) (2.6.1)\n",
      "Requirement already satisfied: pytz in /opt/conda/lib/python3.6/site-packages (from matplotlib->missingno) (2017.3)\n",
      "Requirement already satisfied: cycler>=0.10 in /opt/conda/lib/python3.6/site-packages/cycler-0.10.0-py3.6.egg (from matplotlib->missingno) (0.10.0)\n",
      "Requirement already satisfied: pyparsing!=2.0.4,!=2.1.2,!=2.1.6,>=2.0.1 in /opt/conda/lib/python3.6/site-packages (from matplotlib->missingno) (2.2.0)\n",
      "Installing collected packages: missingno\n",
      "Successfully installed missingno-0.5.2\n"
     ]
    }
   ],
   "source": [
    "! pip install -U numpy\n",
    "! pip install missingno"
   ]
  },
  {
   "cell_type": "code",
   "execution_count": 2,
   "metadata": {
    "editable": true
   },
   "outputs": [],
   "source": [
    "import pandas as pd\n",
    "import matplotlib.pyplot as plt\n",
    "import os\n",
    "import configparser\n",
    "import datetime as dt\n",
    "from pyspark.sql.functions import isnan, when, count, col, udf, dayofmonth, dayofweek, month, year, weekofyear, avg, monotonically_increasing_id\n",
    "from pyspark.sql.types import *\n",
    "import requests\n",
    "requests.packages.urllib3.disable_warnings()\n",
    "from pyspark.sql.functions import year, month, dayofmonth, weekofyear, date_format\n",
    "from pyspark.sql import SparkSession, SQLContext, GroupedData, HiveContext\n",
    "from pyspark.sql.functions import *\n",
    "from pyspark.sql.functions import date_add as d_add\n",
    "from pyspark.sql.types import DoubleType, StringType, IntegerType, FloatType\n",
    "from pyspark.sql import functions as F\n",
    "from pyspark.sql.functions import lit\n",
    "from pyspark.sql import Row\n",
    "import datetime, time\n",
    "import seaborn as sns\n",
    "import numpy as np\n",
    "import tools as tools\n",
    "import tables_func as ct\n",
    "import matplotlib.pyplot as plt\n",
    "%matplotlib inline"
   ]
  },
  {
   "cell_type": "markdown",
   "metadata": {
    "editable": true
   },
   "source": [
    "## Scope of the Project:\n",
    "- In this project I will gather the data from two sources. I will load this data into staging dataframes. I will clean the raw data, write it to parquet files and perform an ETL process using a Spark cluster. Then I will write the data into Fact & Dimension tables to form a star schema. The star schema can then be used by the relevant parties to perform data analytics, correlation and ad-hoc reporting in an effective and efficient manner.\n",
    "### Data Descriptions:\n",
    "\n",
    "- Edu_ministry is Sample data of saudi scholarships students records from the Ministry of Education. This data source will serve as the Fact table in the schema. This data comes from https://od.data.gov.sa/Data/ar/group/education_and_training?page=2 :'البوابة الوطنية للبيانات المفتوحة'.\n",
    "\n",
    "\n",
    "- Countries of the World :This dataset contains Country names linked to region, population, area size, GDP, mortality and more.\n",
    "\n",
    "  This data comes from Kaggle: https://www.kaggle.com/datasets/fernandol/countries-of-the-world"
   ]
  },
  {
   "cell_type": "code",
   "execution_count": 3,
   "metadata": {
    "editable": true
   },
   "outputs": [],
   "source": [
    "    spark = SparkSession\\\n",
    "        .builder \\\n",
    "        .config(\"spark.jars.packages\", \"org.apache.hadoop:hadoop-aws:2.7.0\") \\\n",
    "        .getOrCreate()"
   ]
  },
  {
   "cell_type": "markdown",
   "metadata": {
    "editable": true
   },
   "source": [
    " ### Spark configuration parameters\n",
    " - ('spark.executor.id', 'driver'),\n",
    " - ('spark.app.name', 'pyspark-shell'),\n",
    " - ('spark.driver.port', '33753'),\n",
    " - ('spark.jars.packages', 'org.apache.hadoop:hadoop-aws:2.7.0'),\n",
    " - ('spark.rdd.compress', 'True'),\n",
    " - ('spark.serializer.objectStreamReset', '100'),\n",
    " - ('spark.master', 'local[*]'),\n",
    " - ('spark.driver.host', 'ad2cb8c219e1'),\n",
    " - ('spark.submit.deployMode', 'client'),\n",
    " - ('spark.jars',"
   ]
  },
  {
   "cell_type": "code",
   "execution_count": 5,
   "metadata": {
    "editable": true
   },
   "outputs": [],
   "source": [
    "fname = '../Project/Sources/Edu_minisrty.csv'\n",
    "edu_df = pd.read_csv(fname)"
   ]
  },
  {
   "cell_type": "code",
   "execution_count": 6,
   "metadata": {
    "editable": true
   },
   "outputs": [
    {
     "data": {
      "text/html": [
       "<div>\n",
       "<style scoped>\n",
       "    .dataframe tbody tr th:only-of-type {\n",
       "        vertical-align: middle;\n",
       "    }\n",
       "\n",
       "    .dataframe tbody tr th {\n",
       "        vertical-align: top;\n",
       "    }\n",
       "\n",
       "    .dataframe thead th {\n",
       "        text-align: right;\n",
       "    }\n",
       "</style>\n",
       "<table border=\"1\" class=\"dataframe\">\n",
       "  <thead>\n",
       "    <tr style=\"text-align: right;\">\n",
       "      <th></th>\n",
       "      <th>السنة الدراسية</th>\n",
       "      <th>القطاع الدولي</th>\n",
       "      <th>فئة الإبتعاث</th>\n",
       "      <th>المرحلة الدراسية</th>\n",
       "      <th>المجال الواسع</th>\n",
       "      <th>الجنس</th>\n",
       "      <th>العدد</th>\n",
       "    </tr>\n",
       "  </thead>\n",
       "  <tbody>\n",
       "    <tr>\n",
       "      <th>0</th>\n",
       "      <td>2015.0</td>\n",
       "      <td>استراليا</td>\n",
       "      <td>طالب مبتعث</td>\n",
       "      <td>أخرى</td>\n",
       "      <td>الأعمال، الإدارة والقانون</td>\n",
       "      <td>أنثى</td>\n",
       "      <td>11.0</td>\n",
       "    </tr>\n",
       "    <tr>\n",
       "      <th>1</th>\n",
       "      <td>2015.0</td>\n",
       "      <td>استراليا</td>\n",
       "      <td>طالب مبتعث</td>\n",
       "      <td>أخرى</td>\n",
       "      <td>الأعمال، الإدارة والقانون</td>\n",
       "      <td>ذكر</td>\n",
       "      <td>6.0</td>\n",
       "    </tr>\n",
       "    <tr>\n",
       "      <th>2</th>\n",
       "      <td>2015.0</td>\n",
       "      <td>استراليا</td>\n",
       "      <td>طالب مبتعث</td>\n",
       "      <td>أخرى</td>\n",
       "      <td>التعليم</td>\n",
       "      <td>أنثى</td>\n",
       "      <td>4.0</td>\n",
       "    </tr>\n",
       "    <tr>\n",
       "      <th>3</th>\n",
       "      <td>2015.0</td>\n",
       "      <td>استراليا</td>\n",
       "      <td>طالب مبتعث</td>\n",
       "      <td>أخرى</td>\n",
       "      <td>الصحة والرفاه</td>\n",
       "      <td>أنثى</td>\n",
       "      <td>3.0</td>\n",
       "    </tr>\n",
       "    <tr>\n",
       "      <th>4</th>\n",
       "      <td>2015.0</td>\n",
       "      <td>استراليا</td>\n",
       "      <td>طالب مبتعث</td>\n",
       "      <td>أخرى</td>\n",
       "      <td>العلوم الطبيعية، والرياضايات والإحصاء</td>\n",
       "      <td>ذكر</td>\n",
       "      <td>1.0</td>\n",
       "    </tr>\n",
       "  </tbody>\n",
       "</table>\n",
       "</div>"
      ],
      "text/plain": [
       "   السنة الدراسية القطاع الدولي فئة الإبتعاث المرحلة الدراسية                           المجال الواسع الجنس  العدد\n",
       "0          2015.0      استراليا   طالب مبتعث              أخرى              الأعمال، الإدارة والقانون  أنثى   11.0\n",
       "1          2015.0      استراليا   طالب مبتعث              أخرى              الأعمال، الإدارة والقانون   ذكر    6.0\n",
       "2          2015.0      استراليا   طالب مبتعث              أخرى                                التعليم  أنثى    4.0\n",
       "3          2015.0      استراليا   طالب مبتعث              أخرى                          الصحة والرفاه  أنثى    3.0\n",
       "4          2015.0      استراليا   طالب مبتعث              أخرى  العلوم الطبيعية، والرياضايات والإحصاء   ذكر    1.0"
      ]
     },
     "execution_count": 6,
     "metadata": {},
     "output_type": "execute_result"
    }
   ],
   "source": [
    "edu_df.head()"
   ]
  },
  {
   "cell_type": "code",
   "execution_count": 7,
   "metadata": {
    "editable": true
   },
   "outputs": [],
   "source": [
    "fname = '../Project/Sources/countries of the world.csv'\n",
    "country_df = pd.read_csv(fname)"
   ]
  },
  {
   "cell_type": "code",
   "execution_count": 8,
   "metadata": {
    "editable": true
   },
   "outputs": [
    {
     "data": {
      "text/html": [
       "<div>\n",
       "<style scoped>\n",
       "    .dataframe tbody tr th:only-of-type {\n",
       "        vertical-align: middle;\n",
       "    }\n",
       "\n",
       "    .dataframe tbody tr th {\n",
       "        vertical-align: top;\n",
       "    }\n",
       "\n",
       "    .dataframe thead th {\n",
       "        text-align: right;\n",
       "    }\n",
       "</style>\n",
       "<table border=\"1\" class=\"dataframe\">\n",
       "  <thead>\n",
       "    <tr style=\"text-align: right;\">\n",
       "      <th></th>\n",
       "      <th>Country</th>\n",
       "      <th>Region</th>\n",
       "      <th>Population</th>\n",
       "      <th>Area (sq. mi.)</th>\n",
       "      <th>Pop. Density (per sq. mi.)</th>\n",
       "      <th>Coastline (coast/area ratio)</th>\n",
       "      <th>Net migration</th>\n",
       "      <th>Infant mortality (per 1000 births)</th>\n",
       "      <th>GDP ($ per capita)</th>\n",
       "      <th>Literacy (%)</th>\n",
       "      <th>Phones (per 1000)</th>\n",
       "      <th>Arable (%)</th>\n",
       "      <th>Crops (%)</th>\n",
       "      <th>Other (%)</th>\n",
       "      <th>Climate</th>\n",
       "      <th>Birthrate</th>\n",
       "      <th>Deathrate</th>\n",
       "      <th>Agriculture</th>\n",
       "      <th>Industry</th>\n",
       "      <th>Service</th>\n",
       "    </tr>\n",
       "  </thead>\n",
       "  <tbody>\n",
       "    <tr>\n",
       "      <th>0</th>\n",
       "      <td>Afghanistan</td>\n",
       "      <td>ASIA (EX. NEAR EAST)</td>\n",
       "      <td>31056997</td>\n",
       "      <td>647500</td>\n",
       "      <td>48,0</td>\n",
       "      <td>0,00</td>\n",
       "      <td>23,06</td>\n",
       "      <td>163,07</td>\n",
       "      <td>700.0</td>\n",
       "      <td>36,0</td>\n",
       "      <td>3,2</td>\n",
       "      <td>12,13</td>\n",
       "      <td>0,22</td>\n",
       "      <td>87,65</td>\n",
       "      <td>1</td>\n",
       "      <td>46,6</td>\n",
       "      <td>20,34</td>\n",
       "      <td>0,38</td>\n",
       "      <td>0,24</td>\n",
       "      <td>0,38</td>\n",
       "    </tr>\n",
       "    <tr>\n",
       "      <th>1</th>\n",
       "      <td>Albania</td>\n",
       "      <td>EASTERN EUROPE</td>\n",
       "      <td>3581655</td>\n",
       "      <td>28748</td>\n",
       "      <td>124,6</td>\n",
       "      <td>1,26</td>\n",
       "      <td>-4,93</td>\n",
       "      <td>21,52</td>\n",
       "      <td>4500.0</td>\n",
       "      <td>86,5</td>\n",
       "      <td>71,2</td>\n",
       "      <td>21,09</td>\n",
       "      <td>4,42</td>\n",
       "      <td>74,49</td>\n",
       "      <td>3</td>\n",
       "      <td>15,11</td>\n",
       "      <td>5,22</td>\n",
       "      <td>0,232</td>\n",
       "      <td>0,188</td>\n",
       "      <td>0,579</td>\n",
       "    </tr>\n",
       "    <tr>\n",
       "      <th>2</th>\n",
       "      <td>Algeria</td>\n",
       "      <td>NORTHERN AFRICA</td>\n",
       "      <td>32930091</td>\n",
       "      <td>2381740</td>\n",
       "      <td>13,8</td>\n",
       "      <td>0,04</td>\n",
       "      <td>-0,39</td>\n",
       "      <td>31</td>\n",
       "      <td>6000.0</td>\n",
       "      <td>70,0</td>\n",
       "      <td>78,1</td>\n",
       "      <td>3,22</td>\n",
       "      <td>0,25</td>\n",
       "      <td>96,53</td>\n",
       "      <td>1</td>\n",
       "      <td>17,14</td>\n",
       "      <td>4,61</td>\n",
       "      <td>0,101</td>\n",
       "      <td>0,6</td>\n",
       "      <td>0,298</td>\n",
       "    </tr>\n",
       "    <tr>\n",
       "      <th>3</th>\n",
       "      <td>American Samoa</td>\n",
       "      <td>OCEANIA</td>\n",
       "      <td>57794</td>\n",
       "      <td>199</td>\n",
       "      <td>290,4</td>\n",
       "      <td>58,29</td>\n",
       "      <td>-20,71</td>\n",
       "      <td>9,27</td>\n",
       "      <td>8000.0</td>\n",
       "      <td>97,0</td>\n",
       "      <td>259,5</td>\n",
       "      <td>10</td>\n",
       "      <td>15</td>\n",
       "      <td>75</td>\n",
       "      <td>2</td>\n",
       "      <td>22,46</td>\n",
       "      <td>3,27</td>\n",
       "      <td>NaN</td>\n",
       "      <td>NaN</td>\n",
       "      <td>NaN</td>\n",
       "    </tr>\n",
       "    <tr>\n",
       "      <th>4</th>\n",
       "      <td>Andorra</td>\n",
       "      <td>WESTERN EUROPE</td>\n",
       "      <td>71201</td>\n",
       "      <td>468</td>\n",
       "      <td>152,1</td>\n",
       "      <td>0,00</td>\n",
       "      <td>6,6</td>\n",
       "      <td>4,05</td>\n",
       "      <td>19000.0</td>\n",
       "      <td>100,0</td>\n",
       "      <td>497,2</td>\n",
       "      <td>2,22</td>\n",
       "      <td>0</td>\n",
       "      <td>97,78</td>\n",
       "      <td>3</td>\n",
       "      <td>8,71</td>\n",
       "      <td>6,25</td>\n",
       "      <td>NaN</td>\n",
       "      <td>NaN</td>\n",
       "      <td>NaN</td>\n",
       "    </tr>\n",
       "  </tbody>\n",
       "</table>\n",
       "</div>"
      ],
      "text/plain": [
       "           Country                               Region  Population  Area (sq. mi.) Pop. Density (per sq. mi.) Coastline (coast/area ratio) Net migration  \\\n",
       "0     Afghanistan         ASIA (EX. NEAR EAST)             31056997          647500                       48,0                         0,00         23,06   \n",
       "1         Albania   EASTERN EUROPE                          3581655           28748                      124,6                         1,26         -4,93   \n",
       "2         Algeria   NORTHERN AFRICA                        32930091         2381740                       13,8                         0,04         -0,39   \n",
       "3  American Samoa   OCEANIA                                   57794             199                      290,4                        58,29        -20,71   \n",
       "4         Andorra   WESTERN EUROPE                            71201             468                      152,1                         0,00           6,6   \n",
       "\n",
       "  Infant mortality (per 1000 births)  GDP ($ per capita) Literacy (%) Phones (per 1000) Arable (%) Crops (%) Other (%) Climate Birthrate Deathrate Agriculture Industry  \\\n",
       "0                             163,07               700.0         36,0               3,2      12,13      0,22     87,65       1      46,6     20,34        0,38     0,24   \n",
       "1                              21,52              4500.0         86,5              71,2      21,09      4,42     74,49       3     15,11      5,22       0,232    0,188   \n",
       "2                                 31              6000.0         70,0              78,1       3,22      0,25     96,53       1     17,14      4,61       0,101      0,6   \n",
       "3                               9,27              8000.0         97,0             259,5         10        15        75       2     22,46      3,27         NaN      NaN   \n",
       "4                               4,05             19000.0        100,0             497,2       2,22         0     97,78       3      8,71      6,25         NaN      NaN   \n",
       "\n",
       "  Service  \n",
       "0    0,38  \n",
       "1   0,579  \n",
       "2   0,298  \n",
       "3     NaN  \n",
       "4     NaN  "
      ]
     },
     "execution_count": 8,
     "metadata": {},
     "output_type": "execute_result"
    }
   ],
   "source": [
    "country_df.head()"
   ]
  },
  {
   "cell_type": "markdown",
   "metadata": {
    "editable": true
   },
   "source": [
    "## Exploration and Assessing the Data\n",
    "#### Data Cleaning:\n",
    "- Drop columns containing over 90% missing values\n",
    "- Drop duplicate values"
   ]
  },
  {
   "cell_type": "code",
   "execution_count": 9,
   "metadata": {
    "editable": true
   },
   "outputs": [
    {
     "data": {
      "text/plain": [
       "السنة الدراسية       0\n",
       "القطاع الدولي        0\n",
       "فئة الإبتعاث         0\n",
       "المرحلة الدراسية     0\n",
       "المجال الواسع        0\n",
       "الجنس                0\n",
       "العدد                0\n",
       "dtype: int64"
      ]
     },
     "execution_count": 9,
     "metadata": {},
     "output_type": "execute_result"
    }
   ],
   "source": [
    "# checking missing values \n",
    "edu_df.isnull().sum()"
   ]
  },
  {
   "cell_type": "code",
   "execution_count": 10,
   "metadata": {
    "editable": true
   },
   "outputs": [
    {
     "name": "stdout",
     "output_type": "stream",
     "text": [
      "Dropping missing data...\n",
      "Cleaning complete!\n"
     ]
    }
   ],
   "source": [
    "# Drop columns with over 90% missing values\n",
    "clean_edu = tools.eliminate_missing_data(edu_df)"
   ]
  },
  {
   "cell_type": "code",
   "execution_count": 11,
   "metadata": {
    "editable": true
   },
   "outputs": [
    {
     "name": "stdout",
     "output_type": "stream",
     "text": [
      "Dropping duplicate rows...\n",
      "0 rows dropped.\n"
     ]
    }
   ],
   "source": [
    "clean_edu = tools.drop_duplicate_rows(clean_edu)"
   ]
  },
  {
   "cell_type": "code",
   "execution_count": 12,
   "metadata": {
    "editable": true
   },
   "outputs": [
    {
     "name": "stdout",
     "output_type": "stream",
     "text": [
      "Dropping missing data...\n",
      "Cleaning complete!\n"
     ]
    }
   ],
   "source": [
    "# Drop columns with over 90% missing values\n",
    "clean_country = tools.eliminate_missing_data(country_df)"
   ]
  },
  {
   "cell_type": "code",
   "execution_count": 13,
   "metadata": {
    "editable": true
   },
   "outputs": [
    {
     "name": "stdout",
     "output_type": "stream",
     "text": [
      "Dropping duplicate rows...\n",
      "0 rows dropped.\n"
     ]
    }
   ],
   "source": [
    "clean_country = tools.drop_duplicate_rows(clean_country)"
   ]
  },
  {
   "cell_type": "markdown",
   "metadata": {
    "editable": true
   },
   "source": [
    "#### Now I'll translate the dataset to english language"
   ]
  },
  {
   "cell_type": "code",
   "execution_count": 14,
   "metadata": {
    "editable": true
   },
   "outputs": [
    {
     "data": {
      "text/html": [
       "<div>\n",
       "<style scoped>\n",
       "    .dataframe tbody tr th:only-of-type {\n",
       "        vertical-align: middle;\n",
       "    }\n",
       "\n",
       "    .dataframe tbody tr th {\n",
       "        vertical-align: top;\n",
       "    }\n",
       "\n",
       "    .dataframe thead th {\n",
       "        text-align: right;\n",
       "    }\n",
       "</style>\n",
       "<table border=\"1\" class=\"dataframe\">\n",
       "  <thead>\n",
       "    <tr style=\"text-align: right;\">\n",
       "      <th></th>\n",
       "      <th>Academic_year</th>\n",
       "      <th>Country</th>\n",
       "      <th>Scholarship_type</th>\n",
       "      <th>Educational_level</th>\n",
       "      <th>Specialization</th>\n",
       "      <th>Sex</th>\n",
       "      <th>Count</th>\n",
       "    </tr>\n",
       "  </thead>\n",
       "  <tbody>\n",
       "    <tr>\n",
       "      <th>0</th>\n",
       "      <td>2015.0</td>\n",
       "      <td>Australia</td>\n",
       "      <td>Scholarship student</td>\n",
       "      <td>Other</td>\n",
       "      <td>Business, Management and Law</td>\n",
       "      <td>2</td>\n",
       "      <td>11.0</td>\n",
       "    </tr>\n",
       "    <tr>\n",
       "      <th>1</th>\n",
       "      <td>2015.0</td>\n",
       "      <td>Australia</td>\n",
       "      <td>Scholarship student</td>\n",
       "      <td>Other</td>\n",
       "      <td>Business, Management and Law</td>\n",
       "      <td>1</td>\n",
       "      <td>6.0</td>\n",
       "    </tr>\n",
       "    <tr>\n",
       "      <th>2</th>\n",
       "      <td>2015.0</td>\n",
       "      <td>Australia</td>\n",
       "      <td>Scholarship student</td>\n",
       "      <td>Other</td>\n",
       "      <td>Education</td>\n",
       "      <td>2</td>\n",
       "      <td>4.0</td>\n",
       "    </tr>\n",
       "    <tr>\n",
       "      <th>3</th>\n",
       "      <td>2015.0</td>\n",
       "      <td>Australia</td>\n",
       "      <td>Scholarship student</td>\n",
       "      <td>Other</td>\n",
       "      <td>Health and well-being</td>\n",
       "      <td>2</td>\n",
       "      <td>3.0</td>\n",
       "    </tr>\n",
       "    <tr>\n",
       "      <th>4</th>\n",
       "      <td>2015.0</td>\n",
       "      <td>Australia</td>\n",
       "      <td>Scholarship student</td>\n",
       "      <td>Other</td>\n",
       "      <td>Natural sciences, mathematics and statistics</td>\n",
       "      <td>1</td>\n",
       "      <td>1.0</td>\n",
       "    </tr>\n",
       "  </tbody>\n",
       "</table>\n",
       "</div>"
      ],
      "text/plain": [
       "   Academic_year    Country     Scholarship_type Educational_level                                Specialization Sex  Count\n",
       "0         2015.0  Australia  Scholarship student             Other                  Business, Management and Law   2   11.0\n",
       "1         2015.0  Australia  Scholarship student             Other                  Business, Management and Law   1    6.0\n",
       "2         2015.0  Australia  Scholarship student             Other                                     Education   2    4.0\n",
       "3         2015.0  Australia  Scholarship student             Other                        Health and well-being    2    3.0\n",
       "4         2015.0  Australia  Scholarship student             Other  Natural sciences, mathematics and statistics   1    1.0"
      ]
     },
     "execution_count": 14,
     "metadata": {},
     "output_type": "execute_result"
    }
   ],
   "source": [
    "clean_edu = ct.translate_en(clean_edu)\n",
    "clean_edu.head()"
   ]
  },
  {
   "cell_type": "code",
   "execution_count": 15,
   "metadata": {
    "editable": true
   },
   "outputs": [
    {
     "data": {
      "text/plain": [
       "3148"
      ]
     },
     "execution_count": 15,
     "metadata": {},
     "output_type": "execute_result"
    }
   ],
   "source": [
    "clean_edu['Country'].count()"
   ]
  },
  {
   "cell_type": "markdown",
   "metadata": {
    "editable": true
   },
   "source": [
    "Males represent No.1 and females No.2"
   ]
  },
  {
   "cell_type": "code",
   "execution_count": 16,
   "metadata": {
    "editable": true
   },
   "outputs": [
    {
     "data": {
      "text/plain": [
       "<matplotlib.axes._subplots.AxesSubplot at 0x7f064a5fac18>"
      ]
     },
     "execution_count": 16,
     "metadata": {},
     "output_type": "execute_result"
    },
    {
     "data": {
      "image/png": "[encoded data removed]",
      "text/plain": [
       "<matplotlib.figure.Figure at 0x7f0674280438>"
      ]
     },
     "metadata": {},
     "output_type": "display_data"
    }
   ],
   "source": [
    "clean_edu['Sex'].value_counts().plot(kind='pie',autopct='%.2f%%')"
   ]
  },
  {
   "cell_type": "code",
   "execution_count": 17,
   "metadata": {
    "editable": true
   },
   "outputs": [
    {
     "data": {
      "text/plain": [
       "Text(0.5,1,'Scholarship Types')"
      ]
     },
     "execution_count": 17,
     "metadata": {},
     "output_type": "execute_result"
    },
    {
     "data": {
      "image/png": "[encoded data removed]",
      "text/plain": [
       "<matplotlib.figure.Figure at 0x7f064a5dceb8>"
      ]
     },
     "metadata": {
      "needs_background": "light"
     },
     "output_type": "display_data"
    }
   ],
   "source": [
    "fig, ax = plt.subplots(figsize=(16,4))\n",
    "clean_edu['Scholarship_type'].value_counts().plot(kind='bar', fontsize =12, rot = 0)\n",
    "plt.title('Scholarship Types')"
   ]
  },
  {
   "cell_type": "code",
   "execution_count": 18,
   "metadata": {
    "editable": true
   },
   "outputs": [
    {
     "data": {
      "text/plain": [
       "Text(0.5,1,'Countries')"
      ]
     },
     "execution_count": 18,
     "metadata": {},
     "output_type": "execute_result"
    },
    {
     "data": {
      "image/png": "[encoded data removed]",
      "text/plain": [
       "<matplotlib.figure.Figure at 0x7f064a5203c8>"
      ]
     },
     "metadata": {
      "needs_background": "light"
     },
     "output_type": "display_data"
    }
   ],
   "source": [
    "fig, ax = plt.subplots(figsize=(18,6))\n",
    "clean_edu['Country'].value_counts().plot(kind='bar', fontsize =12, rot = 0)\n",
    "plt.title('Countries')"
   ]
  },
  {
   "cell_type": "code",
   "execution_count": 19,
   "metadata": {
    "editable": true
   },
   "outputs": [
    {
     "data": {
      "text/plain": [
       "Text(0.5,1,'Year')"
      ]
     },
     "execution_count": 19,
     "metadata": {},
     "output_type": "execute_result"
    },
    {
     "data": {
      "image/png": "[encoded data removed]",
      "text/plain": [
       "<matplotlib.figure.Figure at 0x7f064a5232b0>"
      ]
     },
     "metadata": {
      "needs_background": "light"
     },
     "output_type": "display_data"
    }
   ],
   "source": [
    "fig, ax = plt.subplots(figsize=(14,6))\n",
    "clean_edu['Academic_year'].value_counts().plot(kind='bar', fontsize =12, rot = 0)\n",
    "plt.title('Year')"
   ]
  },
  {
   "cell_type": "code",
   "execution_count": 20,
   "metadata": {
    "editable": true
   },
   "outputs": [
    {
     "data": {
      "text/plain": [
       "<matplotlib.axes._subplots.AxesSubplot at 0x7f064a50ec50>"
      ]
     },
     "execution_count": 20,
     "metadata": {},
     "output_type": "execute_result"
    },
    {
     "data": {
      "image/png": "[encoded data removed]",
      "text/plain": [
       "<matplotlib.figure.Figure at 0x7f064a54b3c8>"
      ]
     },
     "metadata": {},
     "output_type": "display_data"
    }
   ],
   "source": [
    "fig, ax = plt.subplots(figsize=(12,12))\n",
    "clean_edu['Specialization'].value_counts().plot(kind='pie',autopct='%.2f%%')"
   ]
  },
  {
   "cell_type": "markdown",
   "metadata": {
    "editable": true
   },
   "source": [
    "## Defining the Data Model\n",
    "#### 3.1 Conceptual Data Model\n",
    "In accordance with Kimball Dimensional Modelling Techniques, laid out in this document (http://www.kimballgroup.com/wp-content/uploads/2013/08/2013.09-Kimball-Dimensional-Modeling-Techniques11.pdf), the following modelling steps have been taken:\n",
    "\n",
    "- Select the Business Process:\n",
    " - The Scholarships department follows their business process of recording scholarships students. This process generates events which are captured and translated to facts in a fact table\n",
    "- Declare the Grain:\n",
    " - The grain identifies exactly what is represented in a single fact table row.\n",
    " - In this project, the grain is declared as a single occurrence of a batch of scholarships students out of the KSA.\n",
    "- Identify the Dimensions:\n",
    " - Dimension tables provide context around an event or business process.\n",
    " - The dimensions identified in this project are:\n",
    "   - dim_country\n",
    "   - dim_specialization\n",
    "- Identify the Facts:\n",
    " - Fact tables focus on the occurrences of a singular business process, and have a one-to-one relationship with the events described in the grain.\n",
    " - The fact table identified in this project is:\n",
    "   - fact_scholarships\n",
    "   \n",
    "For this application, I have developed a set of Fact and Dimension tables in a Relational Database Management System to form a Star Schema. This Star Schema can be used by Data Analysts and other relevant business professionals to gain deeper insight into various scholarships figures, trends and statistics recorded historically."
   ]
  },
  {
   "cell_type": "markdown",
   "metadata": {
    "editable": true
   },
   "source": [
    "#### 3.2 Mapping Out Data Pipelines\n",
    "##### List the steps necessary to pipeline the data into the chosen data model:\n",
    "- 1 Load the data into staging tables\n",
    "- 2 Create Dimension tables\n",
    "- 3 Create Fact table\n",
    "- 4 Write data into parquet files\n",
    "- 5 Perform data quality checks\n"
   ]
  },
  {
   "cell_type": "markdown",
   "metadata": {
    "editable": true
   },
   "source": [
    "## Running Pipelines to Model the Data\n",
    "#### 4.1 Create the data model\n",
    "Build the data pipelines to create the data model."
   ]
  },
  {
   "cell_type": "code",
   "execution_count": 21,
   "metadata": {
    "editable": true
   },
   "outputs": [],
   "source": [
    "output_path = \"parquet_tables/\""
   ]
  },
  {
   "cell_type": "code",
   "execution_count": 22,
   "metadata": {
    "editable": true
   },
   "outputs": [
    {
     "data": {
      "text/html": [
       "<div>\n",
       "<style scoped>\n",
       "    .dataframe tbody tr th:only-of-type {\n",
       "        vertical-align: middle;\n",
       "    }\n",
       "\n",
       "    .dataframe tbody tr th {\n",
       "        vertical-align: top;\n",
       "    }\n",
       "\n",
       "    .dataframe thead th {\n",
       "        text-align: right;\n",
       "    }\n",
       "</style>\n",
       "<table border=\"1\" class=\"dataframe\">\n",
       "  <thead>\n",
       "    <tr style=\"text-align: right;\">\n",
       "      <th></th>\n",
       "      <th>Academic_year</th>\n",
       "      <th>Country</th>\n",
       "      <th>Scholarship_type</th>\n",
       "      <th>Educational_level</th>\n",
       "      <th>Specialization</th>\n",
       "      <th>Sex</th>\n",
       "      <th>Count</th>\n",
       "    </tr>\n",
       "  </thead>\n",
       "  <tbody>\n",
       "    <tr>\n",
       "      <th>0</th>\n",
       "      <td>2015.0</td>\n",
       "      <td>Australia</td>\n",
       "      <td>Scholarship student</td>\n",
       "      <td>Other</td>\n",
       "      <td>Business, Management and Law</td>\n",
       "      <td>2</td>\n",
       "      <td>11.0</td>\n",
       "    </tr>\n",
       "    <tr>\n",
       "      <th>1</th>\n",
       "      <td>2015.0</td>\n",
       "      <td>Australia</td>\n",
       "      <td>Scholarship student</td>\n",
       "      <td>Other</td>\n",
       "      <td>Business, Management and Law</td>\n",
       "      <td>1</td>\n",
       "      <td>6.0</td>\n",
       "    </tr>\n",
       "    <tr>\n",
       "      <th>2</th>\n",
       "      <td>2015.0</td>\n",
       "      <td>Australia</td>\n",
       "      <td>Scholarship student</td>\n",
       "      <td>Other</td>\n",
       "      <td>Education</td>\n",
       "      <td>2</td>\n",
       "      <td>4.0</td>\n",
       "    </tr>\n",
       "    <tr>\n",
       "      <th>3</th>\n",
       "      <td>2015.0</td>\n",
       "      <td>Australia</td>\n",
       "      <td>Scholarship student</td>\n",
       "      <td>Other</td>\n",
       "      <td>Health and well-being</td>\n",
       "      <td>2</td>\n",
       "      <td>3.0</td>\n",
       "    </tr>\n",
       "    <tr>\n",
       "      <th>4</th>\n",
       "      <td>2015.0</td>\n",
       "      <td>Australia</td>\n",
       "      <td>Scholarship student</td>\n",
       "      <td>Other</td>\n",
       "      <td>Natural sciences, mathematics and statistics</td>\n",
       "      <td>1</td>\n",
       "      <td>1.0</td>\n",
       "    </tr>\n",
       "  </tbody>\n",
       "</table>\n",
       "</div>"
      ],
      "text/plain": [
       "   Academic_year    Country     Scholarship_type Educational_level                                Specialization Sex  Count\n",
       "0         2015.0  Australia  Scholarship student             Other                  Business, Management and Law   2   11.0\n",
       "1         2015.0  Australia  Scholarship student             Other                  Business, Management and Law   1    6.0\n",
       "2         2015.0  Australia  Scholarship student             Other                                     Education   2    4.0\n",
       "3         2015.0  Australia  Scholarship student             Other                        Health and well-being    2    3.0\n",
       "4         2015.0  Australia  Scholarship student             Other  Natural sciences, mathematics and statistics   1    1.0"
      ]
     },
     "execution_count": 22,
     "metadata": {},
     "output_type": "execute_result"
    }
   ],
   "source": [
    "clean_edu.head()"
   ]
  },
  {
   "cell_type": "code",
   "execution_count": 23,
   "metadata": {
    "editable": true
   },
   "outputs": [
    {
     "data": {
      "text/html": [
       "<div>\n",
       "<style scoped>\n",
       "    .dataframe tbody tr th:only-of-type {\n",
       "        vertical-align: middle;\n",
       "    }\n",
       "\n",
       "    .dataframe tbody tr th {\n",
       "        vertical-align: top;\n",
       "    }\n",
       "\n",
       "    .dataframe thead th {\n",
       "        text-align: right;\n",
       "    }\n",
       "</style>\n",
       "<table border=\"1\" class=\"dataframe\">\n",
       "  <thead>\n",
       "    <tr style=\"text-align: right;\">\n",
       "      <th></th>\n",
       "      <th>Academic_year</th>\n",
       "      <th>Country</th>\n",
       "      <th>Scholarship_type</th>\n",
       "      <th>Educational_level</th>\n",
       "      <th>Specialization</th>\n",
       "      <th>Sex</th>\n",
       "      <th>Count</th>\n",
       "    </tr>\n",
       "  </thead>\n",
       "  <tbody>\n",
       "    <tr>\n",
       "      <th>0</th>\n",
       "      <td>2015.0</td>\n",
       "      <td>Australia</td>\n",
       "      <td>Scholarship student</td>\n",
       "      <td>Other</td>\n",
       "      <td>Business, Management and Law</td>\n",
       "      <td>2</td>\n",
       "      <td>11.0</td>\n",
       "    </tr>\n",
       "    <tr>\n",
       "      <th>1</th>\n",
       "      <td>2015.0</td>\n",
       "      <td>Australia</td>\n",
       "      <td>Scholarship student</td>\n",
       "      <td>Other</td>\n",
       "      <td>Business, Management and Law</td>\n",
       "      <td>1</td>\n",
       "      <td>6.0</td>\n",
       "    </tr>\n",
       "    <tr>\n",
       "      <th>2</th>\n",
       "      <td>2015.0</td>\n",
       "      <td>Australia</td>\n",
       "      <td>Scholarship student</td>\n",
       "      <td>Other</td>\n",
       "      <td>Education</td>\n",
       "      <td>2</td>\n",
       "      <td>4.0</td>\n",
       "    </tr>\n",
       "    <tr>\n",
       "      <th>3</th>\n",
       "      <td>2015.0</td>\n",
       "      <td>Australia</td>\n",
       "      <td>Scholarship student</td>\n",
       "      <td>Other</td>\n",
       "      <td>Health and well-being</td>\n",
       "      <td>2</td>\n",
       "      <td>3.0</td>\n",
       "    </tr>\n",
       "    <tr>\n",
       "      <th>4</th>\n",
       "      <td>2015.0</td>\n",
       "      <td>Australia</td>\n",
       "      <td>Scholarship student</td>\n",
       "      <td>Other</td>\n",
       "      <td>Natural sciences, mathematics and statistics</td>\n",
       "      <td>1</td>\n",
       "      <td>1.0</td>\n",
       "    </tr>\n",
       "  </tbody>\n",
       "</table>\n",
       "</div>"
      ],
      "text/plain": [
       "  Academic_year    Country     Scholarship_type Educational_level                                Specialization Sex  Count\n",
       "0        2015.0  Australia  Scholarship student             Other                  Business, Management and Law   2   11.0\n",
       "1        2015.0  Australia  Scholarship student             Other                  Business, Management and Law   1    6.0\n",
       "2        2015.0  Australia  Scholarship student             Other                                     Education   2    4.0\n",
       "3        2015.0  Australia  Scholarship student             Other                        Health and well-being    2    3.0\n",
       "4        2015.0  Australia  Scholarship student             Other  Natural sciences, mathematics and statistics   1    1.0"
      ]
     },
     "execution_count": 23,
     "metadata": {},
     "output_type": "execute_result"
    }
   ],
   "source": [
    "# creating schema\n",
    "scholarships_schema = StructType([StructField(\"Academic_year\", StringType(), True)\\\n",
    "                          ,StructField(\"Country\", StringType(), True)\\\n",
    "                          ,StructField(\"Scholarship_type\", StringType(), True)\\\n",
    "                          ,StructField(\"Educational_level\", StringType(), True)\\\n",
    "                          ,StructField(\"Specialization\", StringType(), True)\\\n",
    "                          ,StructField(\"Sex\", StringType(), True)\\\n",
    "                          ,StructField(\"Count\", FloatType(), True)])\n",
    "\n",
    "scholarships_spark = spark.createDataFrame(clean_edu, schema=scholarships_schema)\n",
    "\n",
    "scholarships_spark.toPandas().head()"
   ]
  },
  {
   "cell_type": "code",
   "execution_count": 24,
   "metadata": {
    "editable": true
   },
   "outputs": [
    {
     "data": {
      "text/html": [
       "<div>\n",
       "<style scoped>\n",
       "    .dataframe tbody tr th:only-of-type {\n",
       "        vertical-align: middle;\n",
       "    }\n",
       "\n",
       "    .dataframe tbody tr th {\n",
       "        vertical-align: top;\n",
       "    }\n",
       "\n",
       "    .dataframe thead th {\n",
       "        text-align: right;\n",
       "    }\n",
       "</style>\n",
       "<table border=\"1\" class=\"dataframe\">\n",
       "  <thead>\n",
       "    <tr style=\"text-align: right;\">\n",
       "      <th></th>\n",
       "      <th>Country</th>\n",
       "      <th>Region</th>\n",
       "      <th>Population</th>\n",
       "      <th>Area (sq. mi.)</th>\n",
       "      <th>Pop. Density (per sq. mi.)</th>\n",
       "      <th>Coastline (coast/area ratio)</th>\n",
       "      <th>Net migration</th>\n",
       "      <th>Infant mortality (per 1000 births)</th>\n",
       "      <th>GDP ($ per capita)</th>\n",
       "      <th>Literacy (%)</th>\n",
       "      <th>Phones (per 1000)</th>\n",
       "      <th>Arable (%)</th>\n",
       "      <th>Crops (%)</th>\n",
       "      <th>Other (%)</th>\n",
       "      <th>Climate</th>\n",
       "      <th>Birthrate</th>\n",
       "      <th>Deathrate</th>\n",
       "      <th>Agriculture</th>\n",
       "      <th>Industry</th>\n",
       "      <th>Service</th>\n",
       "    </tr>\n",
       "  </thead>\n",
       "  <tbody>\n",
       "    <tr>\n",
       "      <th>0</th>\n",
       "      <td>Afghanistan</td>\n",
       "      <td>ASIA (EX. NEAR EAST)</td>\n",
       "      <td>31056997</td>\n",
       "      <td>647500</td>\n",
       "      <td>48,0</td>\n",
       "      <td>0,00</td>\n",
       "      <td>23,06</td>\n",
       "      <td>163,07</td>\n",
       "      <td>700.0</td>\n",
       "      <td>36,0</td>\n",
       "      <td>3,2</td>\n",
       "      <td>12,13</td>\n",
       "      <td>0,22</td>\n",
       "      <td>87,65</td>\n",
       "      <td>1</td>\n",
       "      <td>46,6</td>\n",
       "      <td>20,34</td>\n",
       "      <td>0,38</td>\n",
       "      <td>0,24</td>\n",
       "      <td>0,38</td>\n",
       "    </tr>\n",
       "    <tr>\n",
       "      <th>1</th>\n",
       "      <td>Albania</td>\n",
       "      <td>EASTERN EUROPE</td>\n",
       "      <td>3581655</td>\n",
       "      <td>28748</td>\n",
       "      <td>124,6</td>\n",
       "      <td>1,26</td>\n",
       "      <td>-4,93</td>\n",
       "      <td>21,52</td>\n",
       "      <td>4500.0</td>\n",
       "      <td>86,5</td>\n",
       "      <td>71,2</td>\n",
       "      <td>21,09</td>\n",
       "      <td>4,42</td>\n",
       "      <td>74,49</td>\n",
       "      <td>3</td>\n",
       "      <td>15,11</td>\n",
       "      <td>5,22</td>\n",
       "      <td>0,232</td>\n",
       "      <td>0,188</td>\n",
       "      <td>0,579</td>\n",
       "    </tr>\n",
       "    <tr>\n",
       "      <th>2</th>\n",
       "      <td>Algeria</td>\n",
       "      <td>NORTHERN AFRICA</td>\n",
       "      <td>32930091</td>\n",
       "      <td>2381740</td>\n",
       "      <td>13,8</td>\n",
       "      <td>0,04</td>\n",
       "      <td>-0,39</td>\n",
       "      <td>31</td>\n",
       "      <td>6000.0</td>\n",
       "      <td>70,0</td>\n",
       "      <td>78,1</td>\n",
       "      <td>3,22</td>\n",
       "      <td>0,25</td>\n",
       "      <td>96,53</td>\n",
       "      <td>1</td>\n",
       "      <td>17,14</td>\n",
       "      <td>4,61</td>\n",
       "      <td>0,101</td>\n",
       "      <td>0,6</td>\n",
       "      <td>0,298</td>\n",
       "    </tr>\n",
       "    <tr>\n",
       "      <th>3</th>\n",
       "      <td>American Samoa</td>\n",
       "      <td>OCEANIA</td>\n",
       "      <td>57794</td>\n",
       "      <td>199</td>\n",
       "      <td>290,4</td>\n",
       "      <td>58,29</td>\n",
       "      <td>-20,71</td>\n",
       "      <td>9,27</td>\n",
       "      <td>8000.0</td>\n",
       "      <td>97,0</td>\n",
       "      <td>259,5</td>\n",
       "      <td>10</td>\n",
       "      <td>15</td>\n",
       "      <td>75</td>\n",
       "      <td>2</td>\n",
       "      <td>22,46</td>\n",
       "      <td>3,27</td>\n",
       "      <td>NaN</td>\n",
       "      <td>NaN</td>\n",
       "      <td>NaN</td>\n",
       "    </tr>\n",
       "    <tr>\n",
       "      <th>4</th>\n",
       "      <td>Andorra</td>\n",
       "      <td>WESTERN EUROPE</td>\n",
       "      <td>71201</td>\n",
       "      <td>468</td>\n",
       "      <td>152,1</td>\n",
       "      <td>0,00</td>\n",
       "      <td>6,6</td>\n",
       "      <td>4,05</td>\n",
       "      <td>19000.0</td>\n",
       "      <td>100,0</td>\n",
       "      <td>497,2</td>\n",
       "      <td>2,22</td>\n",
       "      <td>0</td>\n",
       "      <td>97,78</td>\n",
       "      <td>3</td>\n",
       "      <td>8,71</td>\n",
       "      <td>6,25</td>\n",
       "      <td>NaN</td>\n",
       "      <td>NaN</td>\n",
       "      <td>NaN</td>\n",
       "    </tr>\n",
       "  </tbody>\n",
       "</table>\n",
       "</div>"
      ],
      "text/plain": [
       "           Country                               Region  Population  Area (sq. mi.) Pop. Density (per sq. mi.) Coastline (coast/area ratio) Net migration  \\\n",
       "0     Afghanistan         ASIA (EX. NEAR EAST)             31056997          647500                       48,0                         0,00         23,06   \n",
       "1         Albania   EASTERN EUROPE                          3581655           28748                      124,6                         1,26         -4,93   \n",
       "2         Algeria   NORTHERN AFRICA                        32930091         2381740                       13,8                         0,04         -0,39   \n",
       "3  American Samoa   OCEANIA                                   57794             199                      290,4                        58,29        -20,71   \n",
       "4         Andorra   WESTERN EUROPE                            71201             468                      152,1                         0,00           6,6   \n",
       "\n",
       "  Infant mortality (per 1000 births)  GDP ($ per capita) Literacy (%) Phones (per 1000) Arable (%) Crops (%) Other (%) Climate Birthrate Deathrate Agriculture Industry  \\\n",
       "0                             163,07               700.0         36,0               3,2      12,13      0,22     87,65       1      46,6     20,34        0,38     0,24   \n",
       "1                              21,52              4500.0         86,5              71,2      21,09      4,42     74,49       3     15,11      5,22       0,232    0,188   \n",
       "2                                 31              6000.0         70,0              78,1       3,22      0,25     96,53       1     17,14      4,61       0,101      0,6   \n",
       "3                               9,27              8000.0         97,0             259,5         10        15        75       2     22,46      3,27         NaN      NaN   \n",
       "4                               4,05             19000.0        100,0             497,2       2,22         0     97,78       3      8,71      6,25         NaN      NaN   \n",
       "\n",
       "  Service  \n",
       "0    0,38  \n",
       "1   0,579  \n",
       "2   0,298  \n",
       "3     NaN  \n",
       "4     NaN  "
      ]
     },
     "execution_count": 24,
     "metadata": {},
     "output_type": "execute_result"
    }
   ],
   "source": [
    "clean_country.head()"
   ]
  },
  {
   "cell_type": "code",
   "execution_count": 25,
   "metadata": {
    "editable": true
   },
   "outputs": [
    {
     "data": {
      "text/html": [
       "<div>\n",
       "<style scoped>\n",
       "    .dataframe tbody tr th:only-of-type {\n",
       "        vertical-align: middle;\n",
       "    }\n",
       "\n",
       "    .dataframe tbody tr th {\n",
       "        vertical-align: top;\n",
       "    }\n",
       "\n",
       "    .dataframe thead th {\n",
       "        text-align: right;\n",
       "    }\n",
       "</style>\n",
       "<table border=\"1\" class=\"dataframe\">\n",
       "  <thead>\n",
       "    <tr style=\"text-align: right;\">\n",
       "      <th></th>\n",
       "      <th>Country</th>\n",
       "      <th>Region</th>\n",
       "      <th>Population</th>\n",
       "      <th>Area (sq. mi.)</th>\n",
       "      <th>Pop. Density (per sq. mi.)</th>\n",
       "      <th>Coastline (coast/area ratio</th>\n",
       "      <th>Net migration)</th>\n",
       "      <th>Infant mortality (per 1000 births)</th>\n",
       "      <th>GDP ($ per capita</th>\n",
       "      <th>Literacy (%)</th>\n",
       "      <th>Phones (per 1000)</th>\n",
       "      <th>Arable (%)</th>\n",
       "      <th>Crops (%)</th>\n",
       "      <th>Other (%)</th>\n",
       "      <th>Climate</th>\n",
       "      <th>Birthrate</th>\n",
       "      <th>Deathrate</th>\n",
       "      <th>Agriculture</th>\n",
       "      <th>ndustry</th>\n",
       "      <th>Service</th>\n",
       "    </tr>\n",
       "  </thead>\n",
       "  <tbody>\n",
       "    <tr>\n",
       "      <th>0</th>\n",
       "      <td>Afghanistan</td>\n",
       "      <td>ASIA (EX. NEAR EAST)</td>\n",
       "      <td>31056997</td>\n",
       "      <td>647500</td>\n",
       "      <td>48,0</td>\n",
       "      <td>0,00</td>\n",
       "      <td>23,06</td>\n",
       "      <td>163,07</td>\n",
       "      <td>700.0</td>\n",
       "      <td>36,0</td>\n",
       "      <td>3,2</td>\n",
       "      <td>12,13</td>\n",
       "      <td>0,22</td>\n",
       "      <td>87,65</td>\n",
       "      <td>1</td>\n",
       "      <td>46,6</td>\n",
       "      <td>20,34</td>\n",
       "      <td>0,38</td>\n",
       "      <td>0,24</td>\n",
       "      <td>0,38</td>\n",
       "    </tr>\n",
       "    <tr>\n",
       "      <th>1</th>\n",
       "      <td>Albania</td>\n",
       "      <td>EASTERN EUROPE</td>\n",
       "      <td>3581655</td>\n",
       "      <td>28748</td>\n",
       "      <td>124,6</td>\n",
       "      <td>1,26</td>\n",
       "      <td>-4,93</td>\n",
       "      <td>21,52</td>\n",
       "      <td>4500.0</td>\n",
       "      <td>86,5</td>\n",
       "      <td>71,2</td>\n",
       "      <td>21,09</td>\n",
       "      <td>4,42</td>\n",
       "      <td>74,49</td>\n",
       "      <td>3</td>\n",
       "      <td>15,11</td>\n",
       "      <td>5,22</td>\n",
       "      <td>0,232</td>\n",
       "      <td>0,188</td>\n",
       "      <td>0,579</td>\n",
       "    </tr>\n",
       "    <tr>\n",
       "      <th>2</th>\n",
       "      <td>Algeria</td>\n",
       "      <td>NORTHERN AFRICA</td>\n",
       "      <td>32930091</td>\n",
       "      <td>2381740</td>\n",
       "      <td>13,8</td>\n",
       "      <td>0,04</td>\n",
       "      <td>-0,39</td>\n",
       "      <td>31</td>\n",
       "      <td>6000.0</td>\n",
       "      <td>70,0</td>\n",
       "      <td>78,1</td>\n",
       "      <td>3,22</td>\n",
       "      <td>0,25</td>\n",
       "      <td>96,53</td>\n",
       "      <td>1</td>\n",
       "      <td>17,14</td>\n",
       "      <td>4,61</td>\n",
       "      <td>0,101</td>\n",
       "      <td>0,6</td>\n",
       "      <td>0,298</td>\n",
       "    </tr>\n",
       "    <tr>\n",
       "      <th>3</th>\n",
       "      <td>American Samoa</td>\n",
       "      <td>OCEANIA</td>\n",
       "      <td>57794</td>\n",
       "      <td>199</td>\n",
       "      <td>290,4</td>\n",
       "      <td>58,29</td>\n",
       "      <td>-20,71</td>\n",
       "      <td>9,27</td>\n",
       "      <td>8000.0</td>\n",
       "      <td>97,0</td>\n",
       "      <td>259,5</td>\n",
       "      <td>10</td>\n",
       "      <td>15</td>\n",
       "      <td>75</td>\n",
       "      <td>2</td>\n",
       "      <td>22,46</td>\n",
       "      <td>3,27</td>\n",
       "      <td>NaN</td>\n",
       "      <td>NaN</td>\n",
       "      <td>NaN</td>\n",
       "    </tr>\n",
       "    <tr>\n",
       "      <th>4</th>\n",
       "      <td>Andorra</td>\n",
       "      <td>WESTERN EUROPE</td>\n",
       "      <td>71201</td>\n",
       "      <td>468</td>\n",
       "      <td>152,1</td>\n",
       "      <td>0,00</td>\n",
       "      <td>6,6</td>\n",
       "      <td>4,05</td>\n",
       "      <td>19000.0</td>\n",
       "      <td>100,0</td>\n",
       "      <td>497,2</td>\n",
       "      <td>2,22</td>\n",
       "      <td>0</td>\n",
       "      <td>97,78</td>\n",
       "      <td>3</td>\n",
       "      <td>8,71</td>\n",
       "      <td>6,25</td>\n",
       "      <td>NaN</td>\n",
       "      <td>NaN</td>\n",
       "      <td>NaN</td>\n",
       "    </tr>\n",
       "  </tbody>\n",
       "</table>\n",
       "</div>"
      ],
      "text/plain": [
       "           Country                               Region  Population  Area (sq. mi.) Pop. Density (per sq. mi.) Coastline (coast/area ratio Net migration)  \\\n",
       "0     Afghanistan         ASIA (EX. NEAR EAST)             31056997          647500                       48,0                        0,00          23,06   \n",
       "1         Albania   EASTERN EUROPE                          3581655           28748                      124,6                        1,26          -4,93   \n",
       "2         Algeria   NORTHERN AFRICA                        32930091         2381740                       13,8                        0,04          -0,39   \n",
       "3  American Samoa   OCEANIA                                   57794             199                      290,4                       58,29         -20,71   \n",
       "4         Andorra   WESTERN EUROPE                            71201             468                      152,1                        0,00            6,6   \n",
       "\n",
       "  Infant mortality (per 1000 births)  GDP ($ per capita Literacy (%) Phones (per 1000) Arable (%) Crops (%) Other (%) Climate Birthrate Deathrate Agriculture ndustry  \\\n",
       "0                             163,07              700.0         36,0               3,2      12,13      0,22     87,65       1      46,6     20,34        0,38    0,24   \n",
       "1                              21,52             4500.0         86,5              71,2      21,09      4,42     74,49       3     15,11      5,22       0,232   0,188   \n",
       "2                                 31             6000.0         70,0              78,1       3,22      0,25     96,53       1     17,14      4,61       0,101     0,6   \n",
       "3                               9,27             8000.0         97,0             259,5         10        15        75       2     22,46      3,27         NaN     NaN   \n",
       "4                               4,05            19000.0        100,0             497,2       2,22         0     97,78       3      8,71      6,25         NaN     NaN   \n",
       "\n",
       "  Service  \n",
       "0    0,38  \n",
       "1   0,579  \n",
       "2   0,298  \n",
       "3     NaN  \n",
       "4     NaN  "
      ]
     },
     "execution_count": 25,
     "metadata": {},
     "output_type": "execute_result"
    }
   ],
   "source": [
    "#\"Country\",\"Region\",\"Population\",\"Net migration\",\"Coastline (coast/area ratio)\",\"GDP ($ per capita)\n",
    "country_schema = StructType([StructField(\"Country\", StringType(), True)\\\n",
    "                             ,StructField(\"Region\", StringType(), True)\\\n",
    "                             ,StructField(\"Population\", IntegerType(), True)\\\n",
    "                             ,StructField(\"Area (sq. mi.)\", IntegerType(), True)\\\n",
    "                             ,StructField(\"Pop. Density (per sq. mi.)\", StringType(), True)\\\n",
    "                             ,StructField(\"Coastline (coast/area ratio\", StringType(), True)\\\n",
    "                             ,StructField(\"Net migration)\", StringType(), True)\\\n",
    "                             ,StructField(\"Infant mortality (per 1000 births)\", StringType(), True)\\\n",
    "                             ,StructField(\"GDP ($ per capita\", FloatType(), True)\n",
    "                            ,StructField(\"Literacy (%)\", StringType(), True)\\\n",
    "                            ,StructField(\"Phones (per 1000)\", StringType(), True)\\\n",
    "                            ,StructField(\"Arable (%)\", StringType(), True)\\\n",
    "                            ,StructField(\"Crops (%)\", StringType(), True)\\\n",
    "                            ,StructField(\"Other (%)\", StringType(), True)\\\n",
    "                            ,StructField(\"Climate\", StringType(), True)\\\n",
    "                            ,StructField(\"Birthrate\", StringType(), True)\\\n",
    "                            ,StructField(\"Deathrate\", StringType(), True)\\\n",
    "                            ,StructField(\"Agriculture\", StringType(), True)\\\n",
    "                            ,StructField(\"ndustry\", StringType(), True)\\\n",
    "                            ,StructField(\"Service\", StringType(), True)])\n",
    "\n",
    "country_spark = spark.createDataFrame(clean_country, schema=country_schema)\n",
    "\n",
    "country_spark.toPandas().head()"
   ]
  },
  {
   "cell_type": "code",
   "execution_count": 26,
   "metadata": {
    "editable": true
   },
   "outputs": [],
   "source": [
    "# inserting missed rows\n",
    "added_row = [['Arab Countries', 'MIDLE EAST',0,0,'','','','',0.0,'','','','','','','','','','','',]\\\n",
    "        ,['Asian Countries', 'ASIA',0,0,'','','','',0.0,'','','','','','','','','','','',]\\\n",
    "        ,['European Countries', 'EUROPE',0,0,'','','','',0.0,'','','','','','','','','','','',]]\n",
    " \n",
    "# Creating the DataFrame\n",
    "newRow = spark.createDataFrame(added_row,schema=None)\n",
    "country_spark= country_spark.union(newRow)"
   ]
  },
  {
   "cell_type": "markdown",
   "metadata": {
    "editable": true
   },
   "source": [
    "#### 1. Create dim_Country table"
   ]
  },
  {
   "cell_type": "code",
   "execution_count": 27,
   "metadata": {
    "editable": true
   },
   "outputs": [
    {
     "name": "stdout",
     "output_type": "stream",
     "text": [
      "Writing table countries to parquet_tables/countries\n",
      "Write complete!\n"
     ]
    },
    {
     "data": {
      "text/plain": [
       "DataFrame[country_id: int, country_name: string, Region: string, Population: bigint, Coastline_area_ratio: string, Net_migration: string, GDP_$_per_capital: double]"
      ]
     },
     "execution_count": 27,
     "metadata": {},
     "output_type": "execute_result"
    }
   ],
   "source": [
    "ct.create_country_dim(country_spark, output_path)"
   ]
  },
  {
   "cell_type": "code",
   "execution_count": 28,
   "metadata": {
    "editable": true
   },
   "outputs": [
    {
     "data": {
      "text/html": [
       "<div>\n",
       "<style scoped>\n",
       "    .dataframe tbody tr th:only-of-type {\n",
       "        vertical-align: middle;\n",
       "    }\n",
       "\n",
       "    .dataframe tbody tr th {\n",
       "        vertical-align: top;\n",
       "    }\n",
       "\n",
       "    .dataframe thead th {\n",
       "        text-align: right;\n",
       "    }\n",
       "</style>\n",
       "<table border=\"1\" class=\"dataframe\">\n",
       "  <thead>\n",
       "    <tr style=\"text-align: right;\">\n",
       "      <th></th>\n",
       "      <th>country_id</th>\n",
       "      <th>country_name</th>\n",
       "      <th>Region</th>\n",
       "      <th>Population</th>\n",
       "      <th>Coastline_area_ratio</th>\n",
       "      <th>Net_migration</th>\n",
       "      <th>GDP_$_per_capital</th>\n",
       "    </tr>\n",
       "  </thead>\n",
       "  <tbody>\n",
       "    <tr>\n",
       "      <th>0</th>\n",
       "      <td>0</td>\n",
       "      <td>Afghanistan</td>\n",
       "      <td>ASIA (EX. NEAR EAST)</td>\n",
       "      <td>31056997</td>\n",
       "      <td>0,00</td>\n",
       "      <td>23,06</td>\n",
       "      <td>700.0</td>\n",
       "    </tr>\n",
       "    <tr>\n",
       "      <th>1</th>\n",
       "      <td>1</td>\n",
       "      <td>Albania</td>\n",
       "      <td>EASTERN EUROPE</td>\n",
       "      <td>3581655</td>\n",
       "      <td>1,26</td>\n",
       "      <td>-4,93</td>\n",
       "      <td>4500.0</td>\n",
       "    </tr>\n",
       "    <tr>\n",
       "      <th>2</th>\n",
       "      <td>2</td>\n",
       "      <td>Algeria</td>\n",
       "      <td>NORTHERN AFRICA</td>\n",
       "      <td>32930091</td>\n",
       "      <td>0,04</td>\n",
       "      <td>-0,39</td>\n",
       "      <td>6000.0</td>\n",
       "    </tr>\n",
       "    <tr>\n",
       "      <th>3</th>\n",
       "      <td>3</td>\n",
       "      <td>American Samoa</td>\n",
       "      <td>OCEANIA</td>\n",
       "      <td>57794</td>\n",
       "      <td>58,29</td>\n",
       "      <td>-20,71</td>\n",
       "      <td>8000.0</td>\n",
       "    </tr>\n",
       "    <tr>\n",
       "      <th>4</th>\n",
       "      <td>4</td>\n",
       "      <td>Andorra</td>\n",
       "      <td>WESTERN EUROPE</td>\n",
       "      <td>71201</td>\n",
       "      <td>0,00</td>\n",
       "      <td>6,6</td>\n",
       "      <td>19000.0</td>\n",
       "    </tr>\n",
       "  </tbody>\n",
       "</table>\n",
       "</div>"
      ],
      "text/plain": [
       "   country_id     country_name                               Region  Population Coastline_area_ratio Net_migration  GDP_$_per_capital\n",
       "0           0     Afghanistan         ASIA (EX. NEAR EAST)             31056997                 0,00         23,06              700.0\n",
       "1           1         Albania   EASTERN EUROPE                          3581655                 1,26         -4,93             4500.0\n",
       "2           2         Algeria   NORTHERN AFRICA                        32930091                 0,04         -0,39             6000.0\n",
       "3           3  American Samoa   OCEANIA                                   57794                58,29        -20,71             8000.0\n",
       "4           4         Andorra   WESTERN EUROPE                            71201                 0,00           6,6            19000.0"
      ]
     },
     "execution_count": 28,
     "metadata": {},
     "output_type": "execute_result"
    }
   ],
   "source": [
    "country = spark.read.parquet(\"parquet_tables/countries\")\n",
    "\n",
    "country.toPandas().head()"
   ]
  },
  {
   "cell_type": "markdown",
   "metadata": {
    "editable": true
   },
   "source": [
    "#### 2. Create dim_Specialization table"
   ]
  },
  {
   "cell_type": "code",
   "execution_count": 29,
   "metadata": {
    "editable": true
   },
   "outputs": [
    {
     "name": "stdout",
     "output_type": "stream",
     "text": [
      "Writing table specializations to parquet_tables/specializations\n",
      "Write complete!\n"
     ]
    },
    {
     "data": {
      "text/plain": [
       "DataFrame[spec_id: int, spec_desc: string]"
      ]
     },
     "execution_count": 29,
     "metadata": {},
     "output_type": "execute_result"
    }
   ],
   "source": [
    "ct.create_specialization_dim(scholarships_spark, output_path)"
   ]
  },
  {
   "cell_type": "code",
   "execution_count": 30,
   "metadata": {
    "editable": true
   },
   "outputs": [
    {
     "data": {
      "text/html": [
       "<div>\n",
       "<style scoped>\n",
       "    .dataframe tbody tr th:only-of-type {\n",
       "        vertical-align: middle;\n",
       "    }\n",
       "\n",
       "    .dataframe tbody tr th {\n",
       "        vertical-align: top;\n",
       "    }\n",
       "\n",
       "    .dataframe thead th {\n",
       "        text-align: right;\n",
       "    }\n",
       "</style>\n",
       "<table border=\"1\" class=\"dataframe\">\n",
       "  <thead>\n",
       "    <tr style=\"text-align: right;\">\n",
       "      <th></th>\n",
       "      <th>spec_id</th>\n",
       "      <th>spec_desc</th>\n",
       "    </tr>\n",
       "  </thead>\n",
       "  <tbody>\n",
       "    <tr>\n",
       "      <th>0</th>\n",
       "      <td>0</td>\n",
       "      <td>Services</td>\n",
       "    </tr>\n",
       "    <tr>\n",
       "      <th>1</th>\n",
       "      <td>1</td>\n",
       "      <td>Engineering, manufacturing and construction</td>\n",
       "    </tr>\n",
       "    <tr>\n",
       "      <th>2</th>\n",
       "      <td>2</td>\n",
       "      <td>Education</td>\n",
       "    </tr>\n",
       "    <tr>\n",
       "      <th>3</th>\n",
       "      <td>3</td>\n",
       "      <td>Farming</td>\n",
       "    </tr>\n",
       "    <tr>\n",
       "      <th>4</th>\n",
       "      <td>4</td>\n",
       "      <td>Others in engineering, manufacturing and const...</td>\n",
       "    </tr>\n",
       "  </tbody>\n",
       "</table>\n",
       "</div>"
      ],
      "text/plain": [
       "   spec_id                                          spec_desc\n",
       "0        0                                           Services\n",
       "1        1       Engineering, manufacturing and construction \n",
       "2        2                                          Education\n",
       "3        3                                           Farming \n",
       "4        4  Others in engineering, manufacturing and const..."
      ]
     },
     "execution_count": 30,
     "metadata": {},
     "output_type": "execute_result"
    }
   ],
   "source": [
    "specialization = spark.read.parquet(\"parquet_tables/specializations\")\n",
    "\n",
    "specialization.toPandas().head()"
   ]
  },
  {
   "cell_type": "markdown",
   "metadata": {
    "editable": true
   },
   "source": [
    "#### 3. Create fact_Scholarships table"
   ]
  },
  {
   "cell_type": "code",
   "execution_count": 31,
   "metadata": {
    "editable": true
   },
   "outputs": [
    {
     "name": "stdout",
     "output_type": "stream",
     "text": [
      "Writing table scholarships to parquet_tables/scholarships\n",
      "Write complete!\n"
     ]
    }
   ],
   "source": [
    "scholarships = ct.create_scholarships_fact(scholarships_spark, output_path, spark)"
   ]
  },
  {
   "cell_type": "code",
   "execution_count": 32,
   "metadata": {
    "editable": true
   },
   "outputs": [
    {
     "data": {
      "text/html": [
       "<div>\n",
       "<style scoped>\n",
       "    .dataframe tbody tr th:only-of-type {\n",
       "        vertical-align: middle;\n",
       "    }\n",
       "\n",
       "    .dataframe tbody tr th {\n",
       "        vertical-align: top;\n",
       "    }\n",
       "\n",
       "    .dataframe thead th {\n",
       "        text-align: right;\n",
       "    }\n",
       "</style>\n",
       "<table border=\"1\" class=\"dataframe\">\n",
       "  <thead>\n",
       "    <tr style=\"text-align: right;\">\n",
       "      <th></th>\n",
       "      <th>scholarships_id</th>\n",
       "      <th>spec_id</th>\n",
       "      <th>country_id</th>\n",
       "      <th>Academic_year</th>\n",
       "      <th>Educational_level</th>\n",
       "      <th>Sex</th>\n",
       "      <th>Count</th>\n",
       "    </tr>\n",
       "  </thead>\n",
       "  <tbody>\n",
       "    <tr>\n",
       "      <th>0</th>\n",
       "      <td>0</td>\n",
       "      <td>0</td>\n",
       "      <td>228</td>\n",
       "      <td>2015.0</td>\n",
       "      <td>Other</td>\n",
       "      <td>1</td>\n",
       "      <td>30.0</td>\n",
       "    </tr>\n",
       "    <tr>\n",
       "      <th>1</th>\n",
       "      <td>1</td>\n",
       "      <td>33</td>\n",
       "      <td>228</td>\n",
       "      <td>2015.0</td>\n",
       "      <td>Other</td>\n",
       "      <td>2</td>\n",
       "      <td>1.0</td>\n",
       "    </tr>\n",
       "    <tr>\n",
       "      <th>2</th>\n",
       "      <td>2</td>\n",
       "      <td>33</td>\n",
       "      <td>228</td>\n",
       "      <td>2015.0</td>\n",
       "      <td>Other</td>\n",
       "      <td>1</td>\n",
       "      <td>1.0</td>\n",
       "    </tr>\n",
       "    <tr>\n",
       "      <th>3</th>\n",
       "      <td>3</td>\n",
       "      <td>1</td>\n",
       "      <td>228</td>\n",
       "      <td>2015.0</td>\n",
       "      <td>Other</td>\n",
       "      <td>1</td>\n",
       "      <td>2.0</td>\n",
       "    </tr>\n",
       "    <tr>\n",
       "      <th>4</th>\n",
       "      <td>4</td>\n",
       "      <td>16</td>\n",
       "      <td>228</td>\n",
       "      <td>2015.0</td>\n",
       "      <td>Fellowship</td>\n",
       "      <td>1</td>\n",
       "      <td>2.0</td>\n",
       "    </tr>\n",
       "  </tbody>\n",
       "</table>\n",
       "</div>"
      ],
      "text/plain": [
       "   scholarships_id  spec_id  country_id Academic_year Educational_level Sex  Count\n",
       "0                0        0         228        2015.0             Other   1   30.0\n",
       "1                1       33         228        2015.0             Other   2    1.0\n",
       "2                2       33         228        2015.0             Other   1    1.0\n",
       "3                3        1         228        2015.0             Other   1    2.0\n",
       "4                4       16         228        2015.0        Fellowship   1    2.0"
      ]
     },
     "execution_count": 32,
     "metadata": {},
     "output_type": "execute_result"
    }
   ],
   "source": [
    "scholarships = spark.read.parquet(\"parquet_tables/scholarships\")\n",
    "\n",
    "scholarships.toPandas().head()"
   ]
  },
  {
   "cell_type": "code",
   "execution_count": 33,
   "metadata": {
    "editable": true
   },
   "outputs": [
    {
     "data": {
      "text/plain": [
       "1738"
      ]
     },
     "execution_count": 33,
     "metadata": {},
     "output_type": "execute_result"
    }
   ],
   "source": [
    "scholarships.count()"
   ]
  },
  {
   "cell_type": "markdown",
   "metadata": {
    "editable": true
   },
   "source": [
    "## Data Quality Checks"
   ]
  },
  {
   "cell_type": "code",
   "execution_count": 34,
   "metadata": {
    "editable": true
   },
   "outputs": [
    {
     "name": "stdout",
     "output_type": "stream",
     "text": [
      "Data quality check passed for specialization with record_count: 38 records.\n",
      "Data quality check passed for country with record_count: 230 records.\n",
      "Data quality check passed for scholarships with record_count: 1738 records.\n"
     ]
    }
   ],
   "source": [
    "tables = {\n",
    "    \"specialization\": specialization,\n",
    "    \"country\": country,\n",
    "    \"scholarships\": scholarships\n",
    "}\n",
    "\n",
    "for table_name, table in tables.items():\n",
    "    tools.perform_quality_check(table, table_name)"
   ]
  },
  {
   "cell_type": "code",
   "execution_count": 35,
   "metadata": {
    "editable": true
   },
   "outputs": [],
   "source": [
    "countriesTable = spark.read.parquet(\"parquet_tables/countries\")\n",
    "specializationTable = spark.read.parquet(\"parquet_tables/specializations\")\n",
    "scholarshipsTable = spark.read.parquet('parquet_tables/scholarships')"
   ]
  },
  {
   "cell_type": "code",
   "execution_count": 36,
   "metadata": {
    "editable": true
   },
   "outputs": [
    {
     "data": {
      "text/plain": [
       "828"
      ]
     },
     "execution_count": 36,
     "metadata": {},
     "output_type": "execute_result"
    }
   ],
   "source": [
    "#Females\n",
    "scholarshipsTable.filter(scholarshipsTable.Sex == '2') \\\n",
    "                .select('scholarships_id', 'Sex') \\\n",
    "                .dropDuplicates() \\\n",
    "                .count()"
   ]
  },
  {
   "cell_type": "code",
   "execution_count": 37,
   "metadata": {
    "editable": true
   },
   "outputs": [
    {
     "data": {
      "text/plain": [
       "910"
      ]
     },
     "execution_count": 37,
     "metadata": {},
     "output_type": "execute_result"
    }
   ],
   "source": [
    "# Males\n",
    "scholarshipsTable.filter(scholarshipsTable.Sex == '1') \\\n",
    "                .select('scholarships_id', 'Sex') \\\n",
    "                .dropDuplicates() \\\n",
    "                .count()"
   ]
  },
  {
   "cell_type": "code",
   "execution_count": 38,
   "metadata": {
    "editable": true
   },
   "outputs": [
    {
     "data": {
      "text/html": [
       "<div>\n",
       "<style scoped>\n",
       "    .dataframe tbody tr th:only-of-type {\n",
       "        vertical-align: middle;\n",
       "    }\n",
       "\n",
       "    .dataframe tbody tr th {\n",
       "        vertical-align: top;\n",
       "    }\n",
       "\n",
       "    .dataframe thead th {\n",
       "        text-align: right;\n",
       "    }\n",
       "</style>\n",
       "<table border=\"1\" class=\"dataframe\">\n",
       "  <thead>\n",
       "    <tr style=\"text-align: right;\">\n",
       "      <th></th>\n",
       "      <th>scholarships_id</th>\n",
       "      <th>Specialization Name</th>\n",
       "      <th>Country Name</th>\n",
       "      <th>Country Population</th>\n",
       "      <th>Sex</th>\n",
       "      <th>Educational_level</th>\n",
       "      <th>Academic_year</th>\n",
       "      <th>count</th>\n",
       "    </tr>\n",
       "  </thead>\n",
       "  <tbody>\n",
       "    <tr>\n",
       "      <th>0</th>\n",
       "      <td>170</td>\n",
       "      <td>Business, Management and Law</td>\n",
       "      <td>United States</td>\n",
       "      <td>298444215</td>\n",
       "      <td>2</td>\n",
       "      <td>Other</td>\n",
       "      <td>2015.0</td>\n",
       "      <td>1.0</td>\n",
       "    </tr>\n",
       "    <tr>\n",
       "      <th>1</th>\n",
       "      <td>171</td>\n",
       "      <td>Business, Management and Law</td>\n",
       "      <td>United States</td>\n",
       "      <td>298444215</td>\n",
       "      <td>1</td>\n",
       "      <td>Other</td>\n",
       "      <td>2015.0</td>\n",
       "      <td>4.0</td>\n",
       "    </tr>\n",
       "    <tr>\n",
       "      <th>2</th>\n",
       "      <td>172</td>\n",
       "      <td>Education</td>\n",
       "      <td>United States</td>\n",
       "      <td>298444215</td>\n",
       "      <td>2</td>\n",
       "      <td>Other</td>\n",
       "      <td>2015.0</td>\n",
       "      <td>1.0</td>\n",
       "    </tr>\n",
       "    <tr>\n",
       "      <th>3</th>\n",
       "      <td>173</td>\n",
       "      <td>Education</td>\n",
       "      <td>United States</td>\n",
       "      <td>298444215</td>\n",
       "      <td>1</td>\n",
       "      <td>Other</td>\n",
       "      <td>2015.0</td>\n",
       "      <td>6.0</td>\n",
       "    </tr>\n",
       "    <tr>\n",
       "      <th>4</th>\n",
       "      <td>174</td>\n",
       "      <td>Health and well-being</td>\n",
       "      <td>United States</td>\n",
       "      <td>298444215</td>\n",
       "      <td>1</td>\n",
       "      <td>Other</td>\n",
       "      <td>2015.0</td>\n",
       "      <td>17.0</td>\n",
       "    </tr>\n",
       "    <tr>\n",
       "      <th>5</th>\n",
       "      <td>175</td>\n",
       "      <td>Arts and humanities</td>\n",
       "      <td>United States</td>\n",
       "      <td>298444215</td>\n",
       "      <td>2</td>\n",
       "      <td>Other</td>\n",
       "      <td>2015.0</td>\n",
       "      <td>8.0</td>\n",
       "    </tr>\n",
       "    <tr>\n",
       "      <th>6</th>\n",
       "      <td>176</td>\n",
       "      <td>Arts and humanities</td>\n",
       "      <td>United States</td>\n",
       "      <td>298444215</td>\n",
       "      <td>1</td>\n",
       "      <td>Other</td>\n",
       "      <td>2015.0</td>\n",
       "      <td>2.0</td>\n",
       "    </tr>\n",
       "    <tr>\n",
       "      <th>7</th>\n",
       "      <td>177</td>\n",
       "      <td>Engineering, manufacturing and construction</td>\n",
       "      <td>United States</td>\n",
       "      <td>298444215</td>\n",
       "      <td>1</td>\n",
       "      <td>Other</td>\n",
       "      <td>2015.0</td>\n",
       "      <td>1.0</td>\n",
       "    </tr>\n",
       "    <tr>\n",
       "      <th>8</th>\n",
       "      <td>178</td>\n",
       "      <td>Communication_IT</td>\n",
       "      <td>United States</td>\n",
       "      <td>298444215</td>\n",
       "      <td>2</td>\n",
       "      <td>Other</td>\n",
       "      <td>2015.0</td>\n",
       "      <td>1.0</td>\n",
       "    </tr>\n",
       "    <tr>\n",
       "      <th>9</th>\n",
       "      <td>179</td>\n",
       "      <td>Communication_IT</td>\n",
       "      <td>United States</td>\n",
       "      <td>298444215</td>\n",
       "      <td>1</td>\n",
       "      <td>Other</td>\n",
       "      <td>2015.0</td>\n",
       "      <td>2.0</td>\n",
       "    </tr>\n",
       "    <tr>\n",
       "      <th>10</th>\n",
       "      <td>180</td>\n",
       "      <td>Not Specified</td>\n",
       "      <td>United States</td>\n",
       "      <td>298444215</td>\n",
       "      <td>2</td>\n",
       "      <td>Other</td>\n",
       "      <td>2015.0</td>\n",
       "      <td>1.0</td>\n",
       "    </tr>\n",
       "    <tr>\n",
       "      <th>11</th>\n",
       "      <td>181</td>\n",
       "      <td>Not Specified</td>\n",
       "      <td>United States</td>\n",
       "      <td>298444215</td>\n",
       "      <td>1</td>\n",
       "      <td>Other</td>\n",
       "      <td>2015.0</td>\n",
       "      <td>5.0</td>\n",
       "    </tr>\n",
       "    <tr>\n",
       "      <th>12</th>\n",
       "      <td>182</td>\n",
       "      <td>Health and well-being</td>\n",
       "      <td>United States</td>\n",
       "      <td>298444215</td>\n",
       "      <td>2</td>\n",
       "      <td>Fellowship</td>\n",
       "      <td>2015.0</td>\n",
       "      <td>98.0</td>\n",
       "    </tr>\n",
       "    <tr>\n",
       "      <th>13</th>\n",
       "      <td>183</td>\n",
       "      <td>Health and well-being</td>\n",
       "      <td>United States</td>\n",
       "      <td>298444215</td>\n",
       "      <td>1</td>\n",
       "      <td>Fellowship</td>\n",
       "      <td>2015.0</td>\n",
       "      <td>141.0</td>\n",
       "    </tr>\n",
       "    <tr>\n",
       "      <th>14</th>\n",
       "      <td>184</td>\n",
       "      <td>Not Specified</td>\n",
       "      <td>United States</td>\n",
       "      <td>298444215</td>\n",
       "      <td>2</td>\n",
       "      <td>Fellowship</td>\n",
       "      <td>2015.0</td>\n",
       "      <td>2.0</td>\n",
       "    </tr>\n",
       "    <tr>\n",
       "      <th>15</th>\n",
       "      <td>185</td>\n",
       "      <td>Business, Management and Law</td>\n",
       "      <td>United States</td>\n",
       "      <td>298444215</td>\n",
       "      <td>2</td>\n",
       "      <td>Bachelor</td>\n",
       "      <td>2015.0</td>\n",
       "      <td>208.0</td>\n",
       "    </tr>\n",
       "    <tr>\n",
       "      <th>16</th>\n",
       "      <td>186</td>\n",
       "      <td>Business, Management and Law</td>\n",
       "      <td>United States</td>\n",
       "      <td>298444215</td>\n",
       "      <td>1</td>\n",
       "      <td>Bachelor</td>\n",
       "      <td>2015.0</td>\n",
       "      <td>1287.0</td>\n",
       "    </tr>\n",
       "    <tr>\n",
       "      <th>17</th>\n",
       "      <td>187</td>\n",
       "      <td>Non-specialized programs and qualifications</td>\n",
       "      <td>United States</td>\n",
       "      <td>298444215</td>\n",
       "      <td>1</td>\n",
       "      <td>Bachelor</td>\n",
       "      <td>2015.0</td>\n",
       "      <td>1.0</td>\n",
       "    </tr>\n",
       "    <tr>\n",
       "      <th>18</th>\n",
       "      <td>188</td>\n",
       "      <td>Education</td>\n",
       "      <td>United States</td>\n",
       "      <td>298444215</td>\n",
       "      <td>2</td>\n",
       "      <td>Bachelor</td>\n",
       "      <td>2015.0</td>\n",
       "      <td>29.0</td>\n",
       "    </tr>\n",
       "    <tr>\n",
       "      <th>19</th>\n",
       "      <td>189</td>\n",
       "      <td>Education</td>\n",
       "      <td>United States</td>\n",
       "      <td>298444215</td>\n",
       "      <td>1</td>\n",
       "      <td>Bachelor</td>\n",
       "      <td>2015.0</td>\n",
       "      <td>13.0</td>\n",
       "    </tr>\n",
       "    <tr>\n",
       "      <th>20</th>\n",
       "      <td>190</td>\n",
       "      <td>Services</td>\n",
       "      <td>United States</td>\n",
       "      <td>298444215</td>\n",
       "      <td>2</td>\n",
       "      <td>Bachelor</td>\n",
       "      <td>2015.0</td>\n",
       "      <td>7.0</td>\n",
       "    </tr>\n",
       "    <tr>\n",
       "      <th>21</th>\n",
       "      <td>191</td>\n",
       "      <td>Services</td>\n",
       "      <td>United States</td>\n",
       "      <td>298444215</td>\n",
       "      <td>1</td>\n",
       "      <td>Bachelor</td>\n",
       "      <td>2015.0</td>\n",
       "      <td>47.0</td>\n",
       "    </tr>\n",
       "    <tr>\n",
       "      <th>22</th>\n",
       "      <td>192</td>\n",
       "      <td>Health and well-being</td>\n",
       "      <td>United States</td>\n",
       "      <td>298444215</td>\n",
       "      <td>2</td>\n",
       "      <td>Bachelor</td>\n",
       "      <td>2015.0</td>\n",
       "      <td>305.0</td>\n",
       "    </tr>\n",
       "    <tr>\n",
       "      <th>23</th>\n",
       "      <td>193</td>\n",
       "      <td>Health and well-being</td>\n",
       "      <td>United States</td>\n",
       "      <td>298444215</td>\n",
       "      <td>1</td>\n",
       "      <td>Bachelor</td>\n",
       "      <td>2015.0</td>\n",
       "      <td>298.0</td>\n",
       "    </tr>\n",
       "    <tr>\n",
       "      <th>24</th>\n",
       "      <td>194</td>\n",
       "      <td>Social Sciences, Journalism and Media</td>\n",
       "      <td>United States</td>\n",
       "      <td>298444215</td>\n",
       "      <td>2</td>\n",
       "      <td>Bachelor</td>\n",
       "      <td>2015.0</td>\n",
       "      <td>52.0</td>\n",
       "    </tr>\n",
       "    <tr>\n",
       "      <th>25</th>\n",
       "      <td>195</td>\n",
       "      <td>Social Sciences, Journalism and Media</td>\n",
       "      <td>United States</td>\n",
       "      <td>298444215</td>\n",
       "      <td>1</td>\n",
       "      <td>Bachelor</td>\n",
       "      <td>2015.0</td>\n",
       "      <td>190.0</td>\n",
       "    </tr>\n",
       "    <tr>\n",
       "      <th>26</th>\n",
       "      <td>196</td>\n",
       "      <td>Natural sciences, mathematics and statistics</td>\n",
       "      <td>United States</td>\n",
       "      <td>298444215</td>\n",
       "      <td>2</td>\n",
       "      <td>Bachelor</td>\n",
       "      <td>2015.0</td>\n",
       "      <td>139.0</td>\n",
       "    </tr>\n",
       "    <tr>\n",
       "      <th>27</th>\n",
       "      <td>197</td>\n",
       "      <td>Natural sciences, mathematics and statistics</td>\n",
       "      <td>United States</td>\n",
       "      <td>298444215</td>\n",
       "      <td>1</td>\n",
       "      <td>Bachelor</td>\n",
       "      <td>2015.0</td>\n",
       "      <td>289.0</td>\n",
       "    </tr>\n",
       "    <tr>\n",
       "      <th>28</th>\n",
       "      <td>198</td>\n",
       "      <td>Arts and humanities</td>\n",
       "      <td>United States</td>\n",
       "      <td>298444215</td>\n",
       "      <td>2</td>\n",
       "      <td>Bachelor</td>\n",
       "      <td>2015.0</td>\n",
       "      <td>125.0</td>\n",
       "    </tr>\n",
       "    <tr>\n",
       "      <th>29</th>\n",
       "      <td>199</td>\n",
       "      <td>Arts and humanities</td>\n",
       "      <td>United States</td>\n",
       "      <td>298444215</td>\n",
       "      <td>1</td>\n",
       "      <td>Bachelor</td>\n",
       "      <td>2015.0</td>\n",
       "      <td>88.0</td>\n",
       "    </tr>\n",
       "    <tr>\n",
       "      <th>30</th>\n",
       "      <td>200</td>\n",
       "      <td>Engineering, manufacturing and construction</td>\n",
       "      <td>United States</td>\n",
       "      <td>298444215</td>\n",
       "      <td>2</td>\n",
       "      <td>Bachelor</td>\n",
       "      <td>2015.0</td>\n",
       "      <td>129.0</td>\n",
       "    </tr>\n",
       "    <tr>\n",
       "      <th>31</th>\n",
       "      <td>201</td>\n",
       "      <td>Engineering, manufacturing and construction</td>\n",
       "      <td>United States</td>\n",
       "      <td>298444215</td>\n",
       "      <td>1</td>\n",
       "      <td>Bachelor</td>\n",
       "      <td>2015.0</td>\n",
       "      <td>1677.0</td>\n",
       "    </tr>\n",
       "    <tr>\n",
       "      <th>32</th>\n",
       "      <td>202</td>\n",
       "      <td>Communication_IT</td>\n",
       "      <td>United States</td>\n",
       "      <td>298444215</td>\n",
       "      <td>2</td>\n",
       "      <td>Bachelor</td>\n",
       "      <td>2015.0</td>\n",
       "      <td>83.0</td>\n",
       "    </tr>\n",
       "    <tr>\n",
       "      <th>33</th>\n",
       "      <td>203</td>\n",
       "      <td>Communication_IT</td>\n",
       "      <td>United States</td>\n",
       "      <td>298444215</td>\n",
       "      <td>1</td>\n",
       "      <td>Bachelor</td>\n",
       "      <td>2015.0</td>\n",
       "      <td>642.0</td>\n",
       "    </tr>\n",
       "    <tr>\n",
       "      <th>34</th>\n",
       "      <td>204</td>\n",
       "      <td>Not Specified</td>\n",
       "      <td>United States</td>\n",
       "      <td>298444215</td>\n",
       "      <td>2</td>\n",
       "      <td>Bachelor</td>\n",
       "      <td>2015.0</td>\n",
       "      <td>14.0</td>\n",
       "    </tr>\n",
       "    <tr>\n",
       "      <th>35</th>\n",
       "      <td>205</td>\n",
       "      <td>Not Specified</td>\n",
       "      <td>United States</td>\n",
       "      <td>298444215</td>\n",
       "      <td>1</td>\n",
       "      <td>Bachelor</td>\n",
       "      <td>2015.0</td>\n",
       "      <td>39.0</td>\n",
       "    </tr>\n",
       "    <tr>\n",
       "      <th>36</th>\n",
       "      <td>206</td>\n",
       "      <td>Business, Management and Law</td>\n",
       "      <td>United States</td>\n",
       "      <td>298444215</td>\n",
       "      <td>2</td>\n",
       "      <td>Ph.d</td>\n",
       "      <td>2015.0</td>\n",
       "      <td>26.0</td>\n",
       "    </tr>\n",
       "    <tr>\n",
       "      <th>37</th>\n",
       "      <td>207</td>\n",
       "      <td>Business, Management and Law</td>\n",
       "      <td>United States</td>\n",
       "      <td>298444215</td>\n",
       "      <td>1</td>\n",
       "      <td>Ph.d</td>\n",
       "      <td>2015.0</td>\n",
       "      <td>37.0</td>\n",
       "    </tr>\n",
       "    <tr>\n",
       "      <th>38</th>\n",
       "      <td>208</td>\n",
       "      <td>Education</td>\n",
       "      <td>United States</td>\n",
       "      <td>298444215</td>\n",
       "      <td>2</td>\n",
       "      <td>Ph.d</td>\n",
       "      <td>2015.0</td>\n",
       "      <td>12.0</td>\n",
       "    </tr>\n",
       "    <tr>\n",
       "      <th>39</th>\n",
       "      <td>209</td>\n",
       "      <td>Education</td>\n",
       "      <td>United States</td>\n",
       "      <td>298444215</td>\n",
       "      <td>1</td>\n",
       "      <td>Ph.d</td>\n",
       "      <td>2015.0</td>\n",
       "      <td>21.0</td>\n",
       "    </tr>\n",
       "    <tr>\n",
       "      <th>40</th>\n",
       "      <td>210</td>\n",
       "      <td>Health and well-being</td>\n",
       "      <td>United States</td>\n",
       "      <td>298444215</td>\n",
       "      <td>2</td>\n",
       "      <td>Ph.d</td>\n",
       "      <td>2015.0</td>\n",
       "      <td>19.0</td>\n",
       "    </tr>\n",
       "    <tr>\n",
       "      <th>41</th>\n",
       "      <td>211</td>\n",
       "      <td>Health and well-being</td>\n",
       "      <td>United States</td>\n",
       "      <td>298444215</td>\n",
       "      <td>1</td>\n",
       "      <td>Ph.d</td>\n",
       "      <td>2015.0</td>\n",
       "      <td>9.0</td>\n",
       "    </tr>\n",
       "    <tr>\n",
       "      <th>42</th>\n",
       "      <td>212</td>\n",
       "      <td>Social Sciences, Journalism and Media</td>\n",
       "      <td>United States</td>\n",
       "      <td>298444215</td>\n",
       "      <td>2</td>\n",
       "      <td>Ph.d</td>\n",
       "      <td>2015.0</td>\n",
       "      <td>5.0</td>\n",
       "    </tr>\n",
       "    <tr>\n",
       "      <th>43</th>\n",
       "      <td>213</td>\n",
       "      <td>Social Sciences, Journalism and Media</td>\n",
       "      <td>United States</td>\n",
       "      <td>298444215</td>\n",
       "      <td>1</td>\n",
       "      <td>Ph.d</td>\n",
       "      <td>2015.0</td>\n",
       "      <td>2.0</td>\n",
       "    </tr>\n",
       "    <tr>\n",
       "      <th>44</th>\n",
       "      <td>214</td>\n",
       "      <td>Natural sciences, mathematics and statistics</td>\n",
       "      <td>United States</td>\n",
       "      <td>298444215</td>\n",
       "      <td>2</td>\n",
       "      <td>Ph.d</td>\n",
       "      <td>2015.0</td>\n",
       "      <td>20.0</td>\n",
       "    </tr>\n",
       "    <tr>\n",
       "      <th>45</th>\n",
       "      <td>215</td>\n",
       "      <td>Natural sciences, mathematics and statistics</td>\n",
       "      <td>United States</td>\n",
       "      <td>298444215</td>\n",
       "      <td>1</td>\n",
       "      <td>Ph.d</td>\n",
       "      <td>2015.0</td>\n",
       "      <td>13.0</td>\n",
       "    </tr>\n",
       "    <tr>\n",
       "      <th>46</th>\n",
       "      <td>216</td>\n",
       "      <td>Arts and humanities</td>\n",
       "      <td>United States</td>\n",
       "      <td>298444215</td>\n",
       "      <td>2</td>\n",
       "      <td>Ph.d</td>\n",
       "      <td>2015.0</td>\n",
       "      <td>7.0</td>\n",
       "    </tr>\n",
       "    <tr>\n",
       "      <th>47</th>\n",
       "      <td>217</td>\n",
       "      <td>Arts and humanities</td>\n",
       "      <td>United States</td>\n",
       "      <td>298444215</td>\n",
       "      <td>1</td>\n",
       "      <td>Ph.d</td>\n",
       "      <td>2015.0</td>\n",
       "      <td>1.0</td>\n",
       "    </tr>\n",
       "    <tr>\n",
       "      <th>48</th>\n",
       "      <td>218</td>\n",
       "      <td>Engineering, manufacturing and construction</td>\n",
       "      <td>United States</td>\n",
       "      <td>298444215</td>\n",
       "      <td>2</td>\n",
       "      <td>Ph.d</td>\n",
       "      <td>2015.0</td>\n",
       "      <td>1.0</td>\n",
       "    </tr>\n",
       "    <tr>\n",
       "      <th>49</th>\n",
       "      <td>219</td>\n",
       "      <td>Engineering, manufacturing and construction</td>\n",
       "      <td>United States</td>\n",
       "      <td>298444215</td>\n",
       "      <td>1</td>\n",
       "      <td>Ph.d</td>\n",
       "      <td>2015.0</td>\n",
       "      <td>21.0</td>\n",
       "    </tr>\n",
       "  </tbody>\n",
       "</table>\n",
       "</div>"
      ],
      "text/plain": [
       "    scholarships_id                           Specialization Name    Country Name  Country Population Sex Educational_level Academic_year   count\n",
       "0               170                  Business, Management and Law  United States            298444215   2             Other        2015.0     1.0\n",
       "1               171                  Business, Management and Law  United States            298444215   1             Other        2015.0     4.0\n",
       "2               172                                     Education  United States            298444215   2             Other        2015.0     1.0\n",
       "3               173                                     Education  United States            298444215   1             Other        2015.0     6.0\n",
       "4               174                        Health and well-being   United States            298444215   1             Other        2015.0    17.0\n",
       "5               175                           Arts and humanities  United States            298444215   2             Other        2015.0     8.0\n",
       "6               176                           Arts and humanities  United States            298444215   1             Other        2015.0     2.0\n",
       "7               177  Engineering, manufacturing and construction   United States            298444215   1             Other        2015.0     1.0\n",
       "8               178                              Communication_IT  United States            298444215   2             Other        2015.0     1.0\n",
       "9               179                              Communication_IT  United States            298444215   1             Other        2015.0     2.0\n",
       "10              180                                 Not Specified  United States            298444215   2             Other        2015.0     1.0\n",
       "11              181                                 Not Specified  United States            298444215   1             Other        2015.0     5.0\n",
       "12              182                        Health and well-being   United States            298444215   2        Fellowship        2015.0    98.0\n",
       "13              183                        Health and well-being   United States            298444215   1        Fellowship        2015.0   141.0\n",
       "14              184                                 Not Specified  United States            298444215   2        Fellowship        2015.0     2.0\n",
       "15              185                  Business, Management and Law  United States            298444215   2          Bachelor        2015.0   208.0\n",
       "16              186                  Business, Management and Law  United States            298444215   1          Bachelor        2015.0  1287.0\n",
       "17              187   Non-specialized programs and qualifications  United States            298444215   1          Bachelor        2015.0     1.0\n",
       "18              188                                     Education  United States            298444215   2          Bachelor        2015.0    29.0\n",
       "19              189                                     Education  United States            298444215   1          Bachelor        2015.0    13.0\n",
       "20              190                                      Services  United States            298444215   2          Bachelor        2015.0     7.0\n",
       "21              191                                      Services  United States            298444215   1          Bachelor        2015.0    47.0\n",
       "22              192                        Health and well-being   United States            298444215   2          Bachelor        2015.0   305.0\n",
       "23              193                        Health and well-being   United States            298444215   1          Bachelor        2015.0   298.0\n",
       "24              194         Social Sciences, Journalism and Media  United States            298444215   2          Bachelor        2015.0    52.0\n",
       "25              195         Social Sciences, Journalism and Media  United States            298444215   1          Bachelor        2015.0   190.0\n",
       "26              196  Natural sciences, mathematics and statistics  United States            298444215   2          Bachelor        2015.0   139.0\n",
       "27              197  Natural sciences, mathematics and statistics  United States            298444215   1          Bachelor        2015.0   289.0\n",
       "28              198                           Arts and humanities  United States            298444215   2          Bachelor        2015.0   125.0\n",
       "29              199                           Arts and humanities  United States            298444215   1          Bachelor        2015.0    88.0\n",
       "30              200  Engineering, manufacturing and construction   United States            298444215   2          Bachelor        2015.0   129.0\n",
       "31              201  Engineering, manufacturing and construction   United States            298444215   1          Bachelor        2015.0  1677.0\n",
       "32              202                              Communication_IT  United States            298444215   2          Bachelor        2015.0    83.0\n",
       "33              203                              Communication_IT  United States            298444215   1          Bachelor        2015.0   642.0\n",
       "34              204                                 Not Specified  United States            298444215   2          Bachelor        2015.0    14.0\n",
       "35              205                                 Not Specified  United States            298444215   1          Bachelor        2015.0    39.0\n",
       "36              206                  Business, Management and Law  United States            298444215   2              Ph.d        2015.0    26.0\n",
       "37              207                  Business, Management and Law  United States            298444215   1              Ph.d        2015.0    37.0\n",
       "38              208                                     Education  United States            298444215   2              Ph.d        2015.0    12.0\n",
       "39              209                                     Education  United States            298444215   1              Ph.d        2015.0    21.0\n",
       "40              210                        Health and well-being   United States            298444215   2              Ph.d        2015.0    19.0\n",
       "41              211                        Health and well-being   United States            298444215   1              Ph.d        2015.0     9.0\n",
       "42              212         Social Sciences, Journalism and Media  United States            298444215   2              Ph.d        2015.0     5.0\n",
       "43              213         Social Sciences, Journalism and Media  United States            298444215   1              Ph.d        2015.0     2.0\n",
       "44              214  Natural sciences, mathematics and statistics  United States            298444215   2              Ph.d        2015.0    20.0\n",
       "45              215  Natural sciences, mathematics and statistics  United States            298444215   1              Ph.d        2015.0    13.0\n",
       "46              216                           Arts and humanities  United States            298444215   2              Ph.d        2015.0     7.0\n",
       "47              217                           Arts and humanities  United States            298444215   1              Ph.d        2015.0     1.0\n",
       "48              218  Engineering, manufacturing and construction   United States            298444215   2              Ph.d        2015.0     1.0\n",
       "49              219  Engineering, manufacturing and construction   United States            298444215   1              Ph.d        2015.0    21.0"
      ]
     },
     "execution_count": 38,
     "metadata": {},
     "output_type": "execute_result"
    }
   ],
   "source": [
    "query = scholarshipsTable.select([\"*\"])\\\n",
    "                .join(countriesTable, (countriesTable.country_id == scholarshipsTable.country_id), how='inner')\\\n",
    "                .join(specializationTable, (specializationTable.spec_id == scholarshipsTable.spec_id), how='inner')\\\n",
    "                .select(['scholarships_id' ,specializationTable.spec_desc.alias('Specialization Name'),countriesTable.country_name.alias('Country Name'),countriesTable.Population.alias('Country Population'),\\\n",
    "                        'Sex', 'Educational_level','Academic_year','count'])\\\n",
    "                .filter(countriesTable.country_name != ('Asian Countries'))\\\n",
    "                .filter(countriesTable.country_name != ('European Countries'))\\\n",
    "                .filter(countriesTable.country_name != ('Arab Countries'))\n",
    "query.toPandas().head(50)"
   ]
  },
  {
   "cell_type": "markdown",
   "metadata": {
    "editable": true
   },
   "source": [
    "## Thank you.."
   ]
  },
  {
   "cell_type": "code",
   "execution_count": null,
   "metadata": {
    "editable": true
   },
   "outputs": [],
   "source": []
  },
  {
   "cell_type": "code",
   "execution_count": null,
   "metadata": {
    "editable": true
   },
   "outputs": [],
   "source": []
  }
 ],
 "metadata": {
  "kernelspec": {
   "display_name": "Python 3",
   "language": "python",
   "name": "python3"
  },
  "language_info": {
   "codemirror_mode": {
    "name": "ipython",
    "version": 3
   },
   "file_extension": ".py",
   "mimetype": "text/x-python",
   "name": "python",
   "nbconvert_exporter": "python",
   "pygments_lexer": "ipython3",
   "version": "3.6.3"
  }
 },
 "nbformat": 4,
 "nbformat_minor": 4
}
